{
 "cells": [
  {
   "cell_type": "markdown",
   "metadata": {},
   "source": [
    "# 10Pearls - User Profile Creation Tool \n",
    "---"
   ]
  },
  {
   "cell_type": "code",
   "execution_count": null,
   "metadata": {},
   "outputs": [],
   "source": [
    "pip install -r requirements.txt"
   ]
  },
  {
   "cell_type": "code",
   "execution_count": 2,
   "metadata": {},
   "outputs": [],
   "source": [
    "import os\n",
    "import tempfile\n",
    "from docx.shared import Pt\n",
    "from openai import Client\n",
    "from docx import Document\n",
    "from docx.enum.section import WD_SECTION\n",
    "from dotenv import load_dotenv\n",
    "from python_docx_replace import docx_replace\n",
    "import re"
   ]
  },
  {
   "cell_type": "markdown",
   "metadata": {},
   "source": [
    "### Uploading the File\n",
    "Keep in mind this works exclusively with old profile formats and not CVs"
   ]
  },
  {
   "cell_type": "code",
   "execution_count": 255,
   "metadata": {},
   "outputs": [],
   "source": [
    "load_dotenv()\n",
    "key = os.getenv(\"OPENAI_API_KEY\")"
   ]
  },
  {
   "cell_type": "code",
   "execution_count": 256,
   "metadata": {},
   "outputs": [
    {
     "name": "stdout",
     "output_type": "stream",
     "text": [
      "Munazza Jamal\n",
      "A highly motivated resource with 5+ years of experience in the field of Manual and Automation software testing. Understands and possesses test management skills as well as automation scripting skills under the best tools and frameworks. Skilled in Smoke Testing, Functional Testing, Integration Testing, System Testing, User Interface testing etc. Have proven expertise in working on different types of test deliverables – Test Plans, Test Cases, Testing Strategies, Test scripts and Test summary reports. Very well acquainted with Test Management and Defect tracking systems such as JIRA and Azure DevOps. Experience in leading, mentoring and guiding the QA team. Also proficient in Test Automation tools such as Selenium WebDriver, Appium, and Cypress. \n",
      "\n",
      "Academic Summary:\n",
      "Master of Science in Project Management \n",
      "Bachelor of Science in Computer Science\n",
      "\n",
      "Tech Stack/Tools:\n",
      "Languages: Java, C#, JavaScript, Groovy\n",
      "Testing: API Testing, Smoke, Functional, Integration, System, Regression, Ad-hoc (Exploratory), Cross Browser, User Interface, Security, Performance Testing\n",
      "Testing Tools: Selenium WebDriver (Java and C#), Postman, JMeter, Appium, Cypress, BrowserStack\n",
      "Bug Reporting: JIRA, Azure DevOps\n",
      "Test Management: Jira, Azure DevOps, TestRail\n",
      "Version controlling: TFS, Gitlab, Jenkins, Azure DevOps\n",
      "Database: MySQL, MS-SQL\n",
      "Work Environments: Agile (Scrum, Kanban)\n",
      "\n",
      "Work Summary:\n",
      "\n",
      "Food Delivery – Web / Mobile Application & Backend Services \n",
      "Environment: Java, Android, iOS, Selenium, Appium, Angular, Postman, Node.JS\n",
      "Outline: A web and mobile application that provides a connection tool that brings all things food together so that shoppers can find exactly what they need and what they're looking for and can have it delivered and shipped from anywhere at any time. \n",
      "Responsibilities: \n",
      "Designed, developed and managed automated web application for functional and regression testing using Selenium WebDriver with JAVA. \n",
      "Performed web manual testing (API, functional and regression) \n",
      "Performed manual testing (functional app testing, performance testing, API testing, usability app testing, compatibility app testing, localization app testing) of mobile application  \n",
      "Reported and verified bugs on Jira  \n",
      "Automated test cases for mobile through Appium with Java using data-driven and Page Object Model approach \n",
      "Integrated allure report with the test scripts \n",
      "\n",
      "Integrated Property Tax Software – Web Application & Backend Services\n",
      "Environment: C#, Selenium, Git, Visual Studio, Angular, Xunit\n",
      "Outline: A web application that determines the monetary amounts of property tax due to the County, issue property tax bills, collect property tax payments and distribute the funds once they are collected.\n",
      "Responsibilities:\n",
      "Performed end-to-end automation testing using Selenium Webdriver with C#\n",
      "Performed manual testing for different modules\n",
      "Established a database connection with the Selenium C# script \n",
      "Created test plan and test cases\n",
      "Reported/verified bugs on Azure\n",
      " \n",
      "ERP Sales – Desktop Application and Backend Services \n",
      "Environment: Visual Studio, Vb.Net, MS-SQL \n",
      "Outline:  A desktop application based on ERP solution for enabling customers to book and track orders, manage deliveries, as well as generate invoices, schemes and pricing.   \n",
      "Responsibilities: \n",
      "Developed and maintain desktop-based business applications built on ASP.NET \n",
      "Worked on scripting and performed unit testing.\n",
      "Worked on WinForms and review integrations between applications\n",
      "Implemented procedures for gathering and analysis of user and business needs for solutions\n",
      "Worked on troubleshooting, debugging and resolution of production issues along with support services \n",
      "\n",
      "Services Calling System\n",
      "Environment: Bash scripting, Linux, Shell \n",
      "Outline: A services calling application that generates the data and call multiple services \n",
      "Responsibilities: \n",
      "Generated bash file to send email to notify service using mutt \n",
      "Implemented services calling through script  \n",
      "Created bash scripts to fetch the common files from the server \n",
      "\n",
      "Free Medicare System\n",
      "Environment: Cypress, JavaScript, Angular, Mochawesome, Node.js\n",
      "Outline: A free Medicare knowledge base for consumers, designed to share basic knowledge about Medicare to help consumers make better Medicare decisions\n",
      "Responsibilities:\n",
      "Build and enhanced automated test framework using Cypress and Page Object Model concepts\n",
      "Designed and developed Test Plans, Test Cases, and Test Scripts and performed Manual testing on the entire application\n",
      "Load testing through JMeter and generated dashboard reports\n",
      "Implemented API testing using Cypress\n",
      "\n",
      "\n",
      "Travel Insurance System - Web Application \n",
      "Environment: Selenium WebDriver, Java, Maven, IntelliJ\n",
      "Outline: Web-based travel insurance application that acts as a link between travel agencies and insurance companies. It enables travel agents to issue insurance policies from various insurance companies and select them based on their clients’ needs.\n",
      "Responsibilities:\n",
      "Executed and automated test cases using Selenium WebDriver with Java\n",
      "Reported and verified bugs/issues\n",
      "Created a smoke and regression run to verify the test cases and share them with the client\n",
      "Tested Rest API using postman\n",
      "\n",
      "HR, ESS, and Payroll Solutions – Web / Mobile Application & Backend Services\n",
      "Environment: Selenium WebDriver, C#, Angular, .Net, JavaScript, tfs2017, Appium\n",
      "Outline: A web and mobile application that provides an ease to employees of the organization to perform all human resource, employee self-services and payroll operations in one place. The application comprising of assessments like behavioral profiling and personality profiling which enable leaders to identify the best candidates for each job.\n",
      "Responsibilities:\n",
      "Designed, developed, and managed automated test projects for functional, performance, and regression testing of web applications using Selenium WebDriver\n",
      "Created test automation framework with C#, Selenium WebDriver and NUnit\n",
      "Created and Maintained automation test cases for Mobile applications using Appium in C#\n",
      "Created automation scripts for the regression test suite\n",
      "Automated deployment process using PowerShell script on Azure\n",
      "Experienced in end-to-end automation for all build and CI/CD\n",
      "Ensured build testing through automated run cases after every build and send automation reports over email\n",
      "\n"
     ]
    }
   ],
   "source": [
    "old_doc_path = os.path.join('samples', 'Munazza Jamal - QA Manual.docx')\n",
    "old_doc = Document(old_doc_path)\n",
    "\n",
    "old_doc_text = \"\"\n",
    "\n",
    "for paragraph in old_doc.paragraphs:\n",
    "    old_doc_text += paragraph.text + \"\\n\"\n",
    "\n",
    "\n",
    "print(old_doc_text)"
   ]
  },
  {
   "cell_type": "code",
   "execution_count": 257,
   "metadata": {},
   "outputs": [],
   "source": [
    "job_description = \"They have a need of at least 2 to 3 Data Engineers with solid experience in Databricks, and creating and manipulating ETL jobs. Databricks certification will be ideal.\""
   ]
  },
  {
   "cell_type": "code",
   "execution_count": 258,
   "metadata": {},
   "outputs": [],
   "source": [
    "job_description = \"Need a Full Stack Developer with MERN expertise in MongoDB, Express JS, React and Node\""
   ]
  },
  {
   "cell_type": "markdown",
   "metadata": {},
   "source": [
    "### Passing text through OpenAI API "
   ]
  },
  {
   "cell_type": "code",
   "execution_count": 259,
   "metadata": {},
   "outputs": [],
   "source": [
    "client = Client(api_key=key)\n",
    "\n",
    "prompt = f\"\"\"Here is the CV/Resume of a person, I want you to efficiently convert the following profile into the new format provided below .\n",
    "    I also need you to compare the following job decription (which is basically a requirement or need for a person) with the person's profile and give me a percentage of how likely the person\n",
    "    is to be a match for the job. I also want you to give me the missing keywords that are present in the job description but not in the person's profile  \n",
    "    DO NOT output anything other than the new format!\n",
    "    Ensure the output is consistently structured as follows:\n",
    "\n",
    "    Job Description:\n",
    "    {job_description}\n",
    "\n",
    "    Old format:\n",
    "    {old_doc_text}\n",
    "\n",
    "    New format (you ONLY need to output this):\n",
    "\n",
    "    Resource Name: (Extract and display the profile's Resource Name as the heading)\n",
    "    Percentage Match: (Percentage of how much the person matches the job)\n",
    "    Missing Keywords: (Keywords that are present in job description but not in users profile)\n",
    "    Job Role: (Extract and display the profile's Job Role from the summary as the heading)\n",
    "    Summary: (Keep the summary the same)\n",
    "    Key Skills & Competencies: (Identify and extract at least 6 attributes from the profile and explain them. Examples include \"technical expertise\", \"technical toolkit\", \"communication and collaboration\")\n",
    "    Academic Summary: (Display as provided)\n",
    "    Work Summary: (Provide in detailed paragraphs without altering any information. For each project, include the following details)\n",
    "    - Project x: (where x is a number, followed by name of the project, this CAN NOT be empty)\n",
    "    - Environment: (Always identify and display the job role from the respective project separated by commas, this CAN NOT be empty)\n",
    "    - Outline: (For each project, give the overview of the project, this CAN NOT be empty )\n",
    "    - Responsibilities: (For each project, detail the responsibilities separated by commas, do NOT use points, this CAN NOT be empty)\n",
    "\n",
    "\n",
    "    Here is an example of Work Summary (it should strictly follow this format!):\n",
    "    Project 3: ERP Sales – Desktop Application and Backend Services\n",
    "    Environment: Visual Studio, Vb.Net, MS-SQL\n",
    "    Outline: A desktop application based on ERP solution for enabling customers to book and track orders, manage deliveries, as well as generate invoices, schemes and pricing.\n",
    "    Responsibilities: Developed and maintain desktop-based business applications built on ASP.NET. Worked on scripting and performed unit testing. Worked on WinForms and review integrations between applications. Implemented procedures for gathering and analysis of user and business needs for solutions. Worked on troubleshooting, debugging and resolution of production issues along with support services.\n",
    "    \n",
    "\n",
    "    Here is an example of Key Skills & Competencies: Technical Expertise: Munazza has 5+ years of experience in manual and automation software testing, with a strong understanding of test management and defect tracking systems.\n",
    "    Technical Toolkit: Munazza is skilled in using tools such as Selenium WebDriver, Appium, and Cypress for test automation.\n",
    "\n",
    "\n",
    "                     \"\"\"\n",
    "\n",
    "\n",
    "\n",
    "response = client.chat.completions.create(\n",
    "    model='gpt-3.5-turbo-16k',\n",
    "    messages=[{\"role\": \"assistant\", \"content\": [{\"type\": \"text\", \"text\": prompt}]}],\n",
    "    max_tokens=3000,\n",
    "    temperature=0.2,\n",
    "    top_p=1.0\n",
    ")"
   ]
  },
  {
   "cell_type": "code",
   "execution_count": null,
   "metadata": {},
   "outputs": [],
   "source": []
  },
  {
   "cell_type": "code",
   "execution_count": 260,
   "metadata": {},
   "outputs": [
    {
     "name": "stdout",
     "output_type": "stream",
     "text": [
      "Resource Name: Munazza Jamal\n",
      "Percentage Match: 60%\n",
      "Missing Keywords: MERN, MongoDB, Express JS, React, Node\n",
      "Job Role: Full Stack Developer\n",
      "Summary: A highly motivated resource with 5+ years of experience in the field of Manual and Automation software testing. Understands and possesses test management skills as well as automation scripting skills under the best tools and frameworks. Skilled in Smoke Testing, Functional Testing, Integration Testing, System Testing, User Interface testing etc. Have proven expertise in working on different types of test deliverables – Test Plans, Test Cases, Testing Strategies, Test scripts and Test summary reports. Very well acquainted with Test Management and Defect tracking systems such as JIRA and Azure DevOps. Experience in leading, mentoring and guiding the QA team. Also proficient in Test Automation tools such as Selenium WebDriver, Appium, and Cypress.\n",
      "\n",
      "Key Skills & Competencies:\n",
      "- Technical Expertise: Munazza has 5+ years of experience in manual and automation software testing, with a strong understanding of test management and defect tracking systems.\n",
      "- Technical Toolkit: Munazza is skilled in using tools such as Selenium WebDriver, Appium, and Cypress for test automation.\n",
      "- Communication and Collaboration: Munazza has experience in leading, mentoring, and guiding the QA team, demonstrating strong communication and collaboration skills.\n",
      "- Test Deliverables: Munazza has expertise in working on different types of test deliverables, including Test Plans, Test Cases, Testing Strategies, Test scripts, and Test summary reports.\n",
      "- Test Management: Munazza is well acquainted with Test Management and Defect tracking systems such as JIRA and Azure DevOps.\n",
      "- Automation Scripting: Munazza possesses automation scripting skills under the best tools and frameworks.\n",
      "\n",
      "Academic Summary:\n",
      "- Master of Science in Project Management\n",
      "- Bachelor of Science in Computer Science\n",
      "\n",
      "Work Summary:\n",
      "Project 1: Food Delivery – Web / Mobile Application & Backend Services\n",
      "Environment: Java, Android, iOS, Selenium, Appium, Angular, Postman, Node.JS\n",
      "Outline: A web and mobile application that provides a connection tool that brings all things food together so that shoppers can find exactly what they need and what they're looking for and can have it delivered and shipped from anywhere at any time.\n",
      "Responsibilities: Designed, developed and managed automated web application for functional and regression testing using Selenium WebDriver with JAVA. Performed web manual testing (API, functional and regression). Performed manual testing (functional app testing, performance testing, API testing, usability app testing, compatibility app testing, localization app testing) of mobile application. Reported and verified bugs on Jira. Automated test cases for mobile through Appium with Java using data-driven and Page Object Model approach. Integrated allure report with the test scripts.\n",
      "\n",
      "Project 2: Integrated Property Tax Software – Web Application & Backend Services\n",
      "Environment: C#, Selenium, Git, Visual Studio, Angular, Xunit\n",
      "Outline: A web application that determines the monetary amounts of property tax due to the County, issue property tax bills, collect property tax payments and distribute the funds once they are collected.\n",
      "Responsibilities: Performed end-to-end automation testing using Selenium Webdriver with C#. Performed manual testing for different modules. Established a database connection with the Selenium C# script. Created test plan and test cases. Reported/verified bugs on Azure.\n",
      "\n",
      "Project 3: ERP Sales – Desktop Application and Backend Services\n",
      "Environment: Visual Studio, Vb.Net, MS-SQL\n",
      "Outline: A desktop application based on ERP solution for enabling customers to book and track orders, manage deliveries, as well as generate invoices, schemes and pricing.\n",
      "Responsibilities: Developed and maintain desktop-based business applications built on ASP.NET. Worked on scripting and performed unit testing. Worked on WinForms and review integrations between applications. Implemented procedures for gathering and analysis of user and business needs for solutions. Worked on troubleshooting, debugging and resolution of production issues along with support services.\n",
      "\n",
      "Project 4: Services Calling System\n",
      "Environment: Bash scripting, Linux, Shell\n",
      "Outline: A services calling application that generates the data and call multiple services.\n",
      "Responsibilities: Generated bash file to send email to notify service using mutt. Implemented services calling through script. Created bash scripts to fetch the common files from the server.\n",
      "\n",
      "Project 5: Free Medicare System\n",
      "Environment: Cypress, JavaScript, Angular, Mochawesome, Node.js\n",
      "Outline: A free Medicare knowledge base for consumers, designed to share basic knowledge about Medicare to help consumers make better Medicare decisions.\n",
      "Responsibilities: Build and enhanced automated test framework using Cypress and Page Object Model concepts. Designed and developed Test Plans, Test Cases, and Test Scripts and performed Manual testing on the entire application. Load testing through JMeter and generated dashboard reports. Implemented API testing using Cypress.\n",
      "\n",
      "Project 6: Travel Insurance System - Web Application\n",
      "Environment: Selenium WebDriver, Java, Maven, IntelliJ\n",
      "Outline: Web-based travel insurance application that acts as a link between travel agencies and insurance companies. It enables travel agents to issue insurance policies from various insurance companies and select them based on their clients’ needs.\n",
      "Responsibilities: Executed and automated test cases using Selenium WebDriver with Java. Reported and verified bugs/issues. Created a smoke and regression run to verify the test cases and share them with the client. Tested Rest API using postman.\n",
      "\n",
      "Project 7: HR, ESS, and Payroll Solutions – Web / Mobile Application & Backend Services\n",
      "Environment: Selenium WebDriver, C#, Angular, .Net, JavaScript, tfs2017, Appium\n",
      "Outline: A web and mobile application that provides an ease to employees of the organization to perform all human resource, employee self-services and payroll operations in one place. The application comprising of assessments like behavioral profiling and personality profiling which enable leaders to identify the best candidates for each job.\n",
      "Responsibilities: Designed, developed, and managed automated test projects for functional, performance, and regression testing of web applications using Selenium WebDriver. Created test automation framework with C#, Selenium WebDriver and NUnit. Created and Maintained automation test cases for Mobile applications using Appium in C#. Created automation scripts for the regression test suite. Automated deployment process using PowerShell script on Azure. Experienced in end-to-end automation for all build and CI/CD. Ensured build testing through automated run cases after every build and send automation reports over email.\n"
     ]
    }
   ],
   "source": [
    "resp = response.choices[0].message.content\n",
    "print(resp)"
   ]
  },
  {
   "cell_type": "markdown",
   "metadata": {},
   "source": [
    "### Processing the response \n",
    "Removing additional line spaces so that response is always in a fixed format"
   ]
  },
  {
   "cell_type": "code",
   "execution_count": 240,
   "metadata": {},
   "outputs": [],
   "source": [
    "resp = resp.split(\"\\n\")"
   ]
  },
  {
   "cell_type": "code",
   "execution_count": 241,
   "metadata": {},
   "outputs": [
    {
     "data": {
      "text/plain": [
       "'Missing Keywords: MERN, MongoDB, Express JS, React, Node'"
      ]
     },
     "execution_count": 241,
     "metadata": {},
     "output_type": "execute_result"
    }
   ],
   "source": [
    "resp[2]"
   ]
  },
  {
   "cell_type": "code",
   "execution_count": 242,
   "metadata": {},
   "outputs": [],
   "source": [
    "if '' in resp:\n",
    "    resp.remove('')"
   ]
  },
  {
   "cell_type": "code",
   "execution_count": 243,
   "metadata": {},
   "outputs": [
    {
     "name": "stdout",
     "output_type": "stream",
     "text": [
      "['Resource Name: Munazza Jamal', 'Percentage Match: 40%', 'Missing Keywords: MERN, MongoDB, Express JS, React, Node', 'Job Role: Full Stack Developer', 'Summary: A highly motivated resource with 5+ years of experience in the field of Manual and Automation software testing. Understands and possesses test management skills as well as automation scripting skills under the best tools and frameworks. Skilled in Smoke Testing, Functional Testing, Integration Testing, System Testing, User Interface testing etc. Have proven expertise in working on different types of test deliverables – Test Plans, Test Cases, Testing Strategies, Test scripts and Test summary reports. Very well acquainted with Test Management and Defect tracking systems such as JIRA and Azure DevOps. Experience in leading, mentoring and guiding the QA team. Also proficient in Test Automation tools such as Selenium WebDriver, Appium, and Cypress.', 'Key Skills & Competencies:', '- Technical Expertise: Munazza has 5+ years of experience in manual and automation software testing, with a strong understanding of test management and defect tracking systems.', '- Technical Toolkit: Munazza is skilled in using tools such as Selenium WebDriver, Appium, and Cypress for test automation.', '- Test Deliverables: Munazza has experience in creating various test deliverables such as Test Plans, Test Cases, Testing Strategies, Test scripts, and Test summary reports.', '- Leadership and Mentoring: Munazza has experience in leading, mentoring, and guiding the QA team.', '- Test Management Systems: Munazza is well acquainted with Test Management and Defect tracking systems such as JIRA and Azure DevOps.', '- Testing Skills: Munazza is skilled in various testing types including Smoke Testing, Functional Testing, Integration Testing, System Testing, and User Interface testing.', '', 'Academic Summary:', '- Master of Science in Project Management', '- Bachelor of Science in Computer Science', '', 'Work Summary:', 'Project 1: Food Delivery – Web / Mobile Application & Backend Services', 'Environment: Java, Android, iOS, Selenium, Appium, Angular, Postman, Node.JS', \"Outline: A web and mobile application that provides a connection tool that brings all things food together so that shoppers can find exactly what they need and what they're looking for and can have it delivered and shipped from anywhere at any time.\", 'Responsibilities: Designed, developed and managed automated web application for functional and regression testing using Selenium WebDriver with JAVA. Performed web manual testing (API, functional and regression). Performed manual testing (functional app testing, performance testing, API testing, usability app testing, compatibility app testing, localization app testing) of mobile application. Reported and verified bugs on Jira. Automated test cases for mobile through Appium with Java using data-driven and Page Object Model approach. Integrated allure report with the test scripts.', '', 'Project 2: Integrated Property Tax Software – Web Application & Backend Services', 'Environment: C#, Selenium, Git, Visual Studio, Angular, Xunit', 'Outline: A web application that determines the monetary amounts of property tax due to the County, issue property tax bills, collect property tax payments and distribute the funds once they are collected.', 'Responsibilities: Performed end-to-end automation testing using Selenium Webdriver with C#. Performed manual testing for different modules. Established a database connection with the Selenium C# script. Created test plan and test cases. Reported/verified bugs on Azure.', '', 'Project 3: ERP Sales – Desktop Application and Backend Services', 'Environment: Visual Studio, Vb.Net, MS-SQL', 'Outline: A desktop application based on ERP solution for enabling customers to book and track orders, manage deliveries, as well as generate invoices, schemes and pricing.', 'Responsibilities: Developed and maintain desktop-based business applications built on ASP.NET. Worked on scripting and performed unit testing. Worked on WinForms and review integrations between applications. Implemented procedures for gathering and analysis of user and business needs for solutions. Worked on troubleshooting, debugging and resolution of production issues along with support services.', '', 'Project 4: Services Calling System', 'Environment: Bash scripting, Linux, Shell', 'Outline: A services calling application that generates the data and call multiple services.', 'Responsibilities: Generated bash file to send email to notify service using mutt. Implemented services calling through script. Created bash scripts to fetch the common files from the server.', '', 'Project 5: Free Medicare System', 'Environment: Cypress, JavaScript, Angular, Mochawesome, Node.js', 'Outline: A free Medicare knowledge base for consumers, designed to share basic knowledge about Medicare to help consumers make better Medicare decisions.', 'Responsibilities: Build and enhanced automated test framework using Cypress and Page Object Model concepts. Designed and developed Test Plans, Test Cases, and Test Scripts and performed Manual testing on the entire application. Load testing through JMeter and generated dashboard reports. Implemented API testing using Cypress.', '', 'Project 6: Travel Insurance System - Web Application', 'Environment: Selenium WebDriver, Java, Maven, IntelliJ', 'Outline: Web-based travel insurance application that acts as a link between travel agencies and insurance companies. It enables travel agents to issue insurance policies from various insurance companies and select them based on their clients’ needs.', 'Responsibilities: Executed and automated test cases using Selenium WebDriver with Java. Reported and verified bugs/issues. Created a smoke and regression run to verify the test cases and share them with the client. Tested Rest API using postman.', '', 'Project 7: HR, ESS, and Payroll Solutions – Web / Mobile Application & Backend Services', 'Environment: Selenium WebDriver, C#, Angular, .Net, JavaScript, tfs2017, Appium', 'Outline: A web and mobile application that provides an ease to employees of the organization to perform all human resource, employee self-services and payroll operations in one place. The application comprising of assessments like behavioral profiling and personality profiling which enable leaders to identify the best candidates for each job.', 'Responsibilities: Designed, developed, and managed automated test projects for functional, performance, and regression testing of web applications using Selenium WebDriver. Created test automation framework with C#, Selenium WebDriver and NUnit. Created and Maintained automation test cases for Mobile applications using Appium in C#. Created automation scripts for the regression test suite. Automated deployment process using PowerShell script on Azure. Experienced in end-to-end automation for all build and CI/CD. Ensured build testing through automated run cases after every build and send automation reports over email.']\n"
     ]
    }
   ],
   "source": [
    "print(resp)"
   ]
  },
  {
   "cell_type": "code",
   "execution_count": 244,
   "metadata": {},
   "outputs": [],
   "source": [
    "text = \"\\n\".join(resp)\n",
    "\n",
    "# Use regex to extract the required sections\n",
    "resource_name = re.search(r\"Resource Name:\\s*(.*)\", text).group(1)\n",
    "job_role = re.search(r\"Job Role:\\s*(.*)\", text).group(1)\n",
    "percentage_match = re.search(r\"Percentage Match:\\s*(.*)\", text).group(1)\n",
    "missing_keywords = re.search(r\"Missing Keywords:\\s*(.*)\", text).group(1)\n",
    "summary = re.search(r\"Summary:\\s*(.*)\", text).group(1)\n",
    "key_skills_competencies = re.search(r\"Key Skills & Competencies:\\s*(.*?)Academic Summary:\", text, re.DOTALL).group(1).strip()\n",
    "academic_summary = re.search(r\"Academic Summary:\\s*(.*?)Work Summary:\", text, re.DOTALL).group(1).strip()\n",
    "work_summary = re.search(r\"Work Summary:\\s*(.*)\", text, re.DOTALL).group(1).strip()\n",
    "\n"
   ]
  },
  {
   "cell_type": "code",
   "execution_count": 245,
   "metadata": {},
   "outputs": [
    {
     "name": "stdout",
     "output_type": "stream",
     "text": [
      "Project 1: Food Delivery – Web / Mobile Application & Backend Services\n",
      "Environment: Java, Android, iOS, Selenium, Appium, Angular, Postman, Node.JS\n",
      "Outline: A web and mobile application that provides a connection tool that brings all things food together so that shoppers can find exactly what they need and what they're looking for and can have it delivered and shipped from anywhere at any time.\n",
      "Responsibilities: Designed, developed and managed automated web application for functional and regression testing using Selenium WebDriver with JAVA. Performed web manual testing (API, functional and regression). Performed manual testing (functional app testing, performance testing, API testing, usability app testing, compatibility app testing, localization app testing) of mobile application. Reported and verified bugs on Jira. Automated test cases for mobile through Appium with Java using data-driven and Page Object Model approach. Integrated allure report with the test scripts.\n",
      "\n",
      "Project 2: Integrated Property Tax Software – Web Application & Backend Services\n",
      "Environment: C#, Selenium, Git, Visual Studio, Angular, Xunit\n",
      "Outline: A web application that determines the monetary amounts of property tax due to the County, issue property tax bills, collect property tax payments and distribute the funds once they are collected.\n",
      "Responsibilities: Performed end-to-end automation testing using Selenium Webdriver with C#. Performed manual testing for different modules. Established a database connection with the Selenium C# script. Created test plan and test cases. Reported/verified bugs on Azure.\n",
      "\n",
      "Project 3: ERP Sales – Desktop Application and Backend Services\n",
      "Environment: Visual Studio, Vb.Net, MS-SQL\n",
      "Outline: A desktop application based on ERP solution for enabling customers to book and track orders, manage deliveries, as well as generate invoices, schemes and pricing.\n",
      "Responsibilities: Developed and maintain desktop-based business applications built on ASP.NET. Worked on scripting and performed unit testing. Worked on WinForms and review integrations between applications. Implemented procedures for gathering and analysis of user and business needs for solutions. Worked on troubleshooting, debugging and resolution of production issues along with support services.\n",
      "\n",
      "Project 4: Services Calling System\n",
      "Environment: Bash scripting, Linux, Shell\n",
      "Outline: A services calling application that generates the data and call multiple services.\n",
      "Responsibilities: Generated bash file to send email to notify service using mutt. Implemented services calling through script. Created bash scripts to fetch the common files from the server.\n",
      "\n",
      "Project 5: Free Medicare System\n",
      "Environment: Cypress, JavaScript, Angular, Mochawesome, Node.js\n",
      "Outline: A free Medicare knowledge base for consumers, designed to share basic knowledge about Medicare to help consumers make better Medicare decisions.\n",
      "Responsibilities: Build and enhanced automated test framework using Cypress and Page Object Model concepts. Designed and developed Test Plans, Test Cases, and Test Scripts and performed Manual testing on the entire application. Load testing through JMeter and generated dashboard reports. Implemented API testing using Cypress.\n",
      "\n",
      "Project 6: Travel Insurance System - Web Application\n",
      "Environment: Selenium WebDriver, Java, Maven, IntelliJ\n",
      "Outline: Web-based travel insurance application that acts as a link between travel agencies and insurance companies. It enables travel agents to issue insurance policies from various insurance companies and select them based on their clients’ needs.\n",
      "Responsibilities: Executed and automated test cases using Selenium WebDriver with Java. Reported and verified bugs/issues. Created a smoke and regression run to verify the test cases and share them with the client. Tested Rest API using postman.\n",
      "\n",
      "Project 7: HR, ESS, and Payroll Solutions – Web / Mobile Application & Backend Services\n",
      "Environment: Selenium WebDriver, C#, Angular, .Net, JavaScript, tfs2017, Appium\n",
      "Outline: A web and mobile application that provides an ease to employees of the organization to perform all human resource, employee self-services and payroll operations in one place. The application comprising of assessments like behavioral profiling and personality profiling which enable leaders to identify the best candidates for each job.\n",
      "Responsibilities: Designed, developed, and managed automated test projects for functional, performance, and regression testing of web applications using Selenium WebDriver. Created test automation framework with C#, Selenium WebDriver and NUnit. Created and Maintained automation test cases for Mobile applications using Appium in C#. Created automation scripts for the regression test suite. Automated deployment process using PowerShell script on Azure. Experienced in end-to-end automation for all build and CI/CD. Ensured build testing through automated run cases after every build and send automation reports over email.\n"
     ]
    }
   ],
   "source": [
    "\n",
    "print(work_summary)\n"
   ]
  },
  {
   "cell_type": "code",
   "execution_count": 246,
   "metadata": {},
   "outputs": [
    {
     "name": "stdout",
     "output_type": "stream",
     "text": [
      "Resource Name: Munazza Jamal\n",
      "Job Role: Full Stack Developer\n",
      "Percentage Match: 40%\n",
      "Missing Keywords: MERN, MongoDB, Express JS, React, Node\n",
      "Summary: A highly motivated resource with 5+ years of experience in the field of Manual and Automation software testing. Understands and possesses test management skills as well as automation scripting skills under the best tools and frameworks. Skilled in Smoke Testing, Functional Testing, Integration Testing, System Testing, User Interface testing etc. Have proven expertise in working on different types of test deliverables – Test Plans, Test Cases, Testing Strategies, Test scripts and Test summary reports. Very well acquainted with Test Management and Defect tracking systems such as JIRA and Azure DevOps. Experience in leading, mentoring and guiding the QA team. Also proficient in Test Automation tools such as Selenium WebDriver, Appium, and Cypress.\n",
      "Key Skills & Competencies: ['- Technical Expertise: Munazza has 5+ years of experience in manual and automation software testing, with a strong understanding of test management and defect tracking systems.', '- Technical Toolkit: Munazza is skilled in using tools such as Selenium WebDriver, Appium, and Cypress for test automation.', '- Test Deliverables: Munazza has experience in creating various test deliverables such as Test Plans, Test Cases, Testing Strategies, Test scripts, and Test summary reports.', '- Leadership and Mentoring: Munazza has experience in leading, mentoring, and guiding the QA team.', '- Test Management Systems: Munazza is well acquainted with Test Management and Defect tracking systems such as JIRA and Azure DevOps.', '- Testing Skills: Munazza is skilled in various testing types including Smoke Testing, Functional Testing, Integration Testing, System Testing, and User Interface testing.']\n",
      "Academic Summary: ['- Master of Science in Project Management', '- Bachelor of Science in Computer Science']\n",
      "Work Summary: [{'Project': 'Food Delivery – Web / Mobile Application & Backend Services', 'Environment': 'Java, Android, iOS, Selenium, Appium, Angular, Postman, Node.JS', 'Outline': \"A web and mobile application that provides a connection tool that brings all things food together so that shoppers can find exactly what they need and what they're looking for and can have it delivered and shipped from anywhere at any time.\", 'Responsibilities': 'Designed, developed and managed automated web application for functional and regression testing using Selenium WebDriver with JAVA. Performed web manual testing (API, functional and regression). Performed manual testing (functional app testing, performance testing, API testing, usability app testing, compatibility app testing, localization app testing) of mobile application. Reported and verified bugs on Jira. Automated test cases for mobile through Appium with Java using data-driven and Page Object Model approach. Integrated allure report with the test scripts.'}, {'Project': 'Integrated Property Tax Software – Web Application & Backend Services', 'Environment': 'C#, Selenium, Git, Visual Studio, Angular, Xunit', 'Outline': 'A web application that determines the monetary amounts of property tax due to the County, issue property tax bills, collect property tax payments and distribute the funds once they are collected.', 'Responsibilities': 'Performed end-to-end automation testing using Selenium Webdriver with C#. Performed manual testing for different modules. Established a database connection with the Selenium C# script. Created test plan and test cases. Reported/verified bugs on Azure.'}, {'Project': 'ERP Sales – Desktop Application and Backend Services', 'Environment': 'Visual Studio, Vb.Net, MS-SQL', 'Outline': 'A desktop application based on ERP solution for enabling customers to book and track orders, manage deliveries, as well as generate invoices, schemes and pricing.', 'Responsibilities': 'Developed and maintain desktop-based business applications built on ASP.NET. Worked on scripting and performed unit testing. Worked on WinForms and review integrations between applications. Implemented procedures for gathering and analysis of user and business needs for solutions. Worked on troubleshooting, debugging and resolution of production issues along with support services.'}, {'Project': 'Services Calling System', 'Environment': 'Bash scripting, Linux, Shell', 'Outline': 'A services calling application that generates the data and call multiple services.', 'Responsibilities': 'Generated bash file to send email to notify service using mutt. Implemented services calling through script. Created bash scripts to fetch the common files from the server.'}, {'Project': 'Free Medicare System', 'Environment': 'Cypress, JavaScript, Angular, Mochawesome, Node.js', 'Outline': 'A free Medicare knowledge base for consumers, designed to share basic knowledge about Medicare to help consumers make better Medicare decisions.', 'Responsibilities': 'Build and enhanced automated test framework using Cypress and Page Object Model concepts. Designed and developed Test Plans, Test Cases, and Test Scripts and performed Manual testing on the entire application. Load testing through JMeter and generated dashboard reports. Implemented API testing using Cypress.'}, {'Project': 'Travel Insurance System - Web Application', 'Environment': 'Selenium WebDriver, Java, Maven, IntelliJ', 'Outline': 'Web-based travel insurance application that acts as a link between travel agencies and insurance companies. It enables travel agents to issue insurance policies from various insurance companies and select them based on their clients’ needs.', 'Responsibilities': 'Executed and automated test cases using Selenium WebDriver with Java. Reported and verified bugs/issues. Created a smoke and regression run to verify the test cases and share them with the client. Tested Rest API using postman.'}, {'Project': 'HR, ESS, and Payroll Solutions – Web / Mobile Application & Backend Services', 'Environment': 'Selenium WebDriver, C#, Angular, .Net, JavaScript, tfs2017, Appium', 'Outline': 'A web and mobile application that provides an ease to employees of the organization to perform all human resource, employee self-services and payroll operations in one place. The application comprising of assessments like behavioral profiling and personality profiling which enable leaders to identify the best candidates for each job.', 'Responsibilities': 'Designed, developed, and managed automated test projects for functional, performance, and regression testing of web applications using Selenium WebDriver. Created test automation framework with C#, Selenium WebDriver and NUnit. Created and Maintained automation test cases for Mobile applications using Appium in C#. Created automation scripts for the regression test suite. Automated deployment process using PowerShell script on Azure. Experienced in end-to-end automation for all build and CI/CD. Ensured build testing through automated run cases after every build and send automation reports over email.'}]\n"
     ]
    }
   ],
   "source": [
    "# Store in appropriate data structures\n",
    "profile_data = {\n",
    "    \"Resource Name\": resource_name,\n",
    "    \"Job Role\": job_role,\n",
    "    \"Percentage Match\": percentage_match,\n",
    "    \"Missing Keywords\": missing_keywords,\n",
    "    \"Summary\": summary,\n",
    "    \"Key Skills & Competencies\": key_skills_competencies.split(\"\\n\"),\n",
    "    \"Academic Summary\": academic_summary.split(\"\\n\"),\n",
    "    \"Work Summary\": []\n",
    "}\n",
    "\n",
    "\n",
    "projects = re.findall(\n",
    "    r\"Project \\d+: (.*?)\\n\\s*Environment:\\s*(.*?)\\n\\s*Outline:\\s*(.*?)\\n\\s*Responsibilities:\\s*(.*?)(?=\\nProject \\d+:|$)\",\n",
    "    work_summary, re.DOTALL\n",
    ")\n",
    "\n",
    "\n",
    "# Populate profile_data with extracted projects\n",
    "for project in projects:\n",
    "    project_data = {\n",
    "        \"Project\": project[0],\n",
    "        \"Environment\": project[1],\n",
    "        \"Outline\": project[2].strip(),\n",
    "        \"Responsibilities\": project[3].strip()\n",
    "    }\n",
    "    profile_data[\"Work Summary\"].append(project_data)\n",
    "\n",
    "\n",
    "# Print extracted data\n",
    "for key, value in profile_data.items():\n",
    "    print(f\"{key}: {value}\")"
   ]
  },
  {
   "cell_type": "code",
   "execution_count": 247,
   "metadata": {},
   "outputs": [
    {
     "name": "stdout",
     "output_type": "stream",
     "text": [
      "ERP Sales – Desktop Application and Backend Services\n"
     ]
    }
   ],
   "source": [
    "print(profile_data['Work Summary'][2]['Project'])"
   ]
  },
  {
   "cell_type": "markdown",
   "metadata": {},
   "source": [
    "### Generating Word Document\n",
    "Will include everything according to the provided format except for \"Percentage Match\" and \"Missing Keywords\""
   ]
  },
  {
   "cell_type": "code",
   "execution_count": 248,
   "metadata": {},
   "outputs": [],
   "source": [
    "from docx.shared import Pt\n",
    "from docx.oxml.ns import qn"
   ]
  },
  {
   "cell_type": "code",
   "execution_count": 249,
   "metadata": {},
   "outputs": [],
   "source": [
    "new_file_path = os.path.join('template', 'Sample Profile 2.docx')\n",
    "new_file = Document(new_file_path)"
   ]
  },
  {
   "cell_type": "code",
   "execution_count": 250,
   "metadata": {},
   "outputs": [],
   "source": [
    "def set_font_style(document, font_name='Arial'):\n",
    "    for paragraph in document.paragraphs:\n",
    "        for run in paragraph.runs:\n",
    "            run.font.name = font_name\n",
    "            run._element.rPr.rFonts.set(qn('w:eastAsia'), font_name)  # For East Asian text support\n",
    "\n",
    "\n",
    "def replace_placeholder(paragraph, placeholder, replacement):\n",
    "    if paragraph.text == placeholder:\n",
    "        combined_text = \"\".join([run.text for run in paragraph.runs])\n",
    "        new_text = combined_text.replace(placeholder, replacement)\n",
    "        \n",
    "        # Clear existing runs and add the replaced text as a single run\n",
    "        for run in paragraph.runs:\n",
    "            run.text = \"\"\n",
    "        paragraph.runs[0].text = new_text\n",
    "\n",
    "# Function to add bold text\n",
    "def bold_text(paragraph, text):\n",
    "    run = paragraph.add_run(text)\n",
    "    run.bold = True"
   ]
  },
  {
   "cell_type": "code",
   "execution_count": 251,
   "metadata": {},
   "outputs": [],
   "source": [
    "for paragraph in new_file.paragraphs:\n",
    "    replace_placeholder(paragraph, \"${resourcename}\", profile_data[\"Resource Name\"])\n",
    "    replace_placeholder(paragraph, \"${jobrole}\", profile_data[\"Job Role\"])\n",
    "    replace_placeholder(paragraph, \"${summary}\", profile_data[\"Summary\"])\n",
    "    replace_placeholder(paragraph, \"${academic}\", \"\\n\".join(profile_data[\"Academic Summary\"]))\n"
   ]
  },
  {
   "cell_type": "code",
   "execution_count": 252,
   "metadata": {},
   "outputs": [],
   "source": [
    "for paragraph in new_file.paragraphs:\n",
    "    if \"${keyskills}\" in paragraph.text:\n",
    "        paragraph.clear()\n",
    "        for skill in profile_data[\"Key Skills & Competencies\"]:\n",
    "            skill_parts = skill.split(\":\")\n",
    "            \n",
    "            if len(skill_parts) == 2:\n",
    "                bold_text(paragraph, skill_parts[0] + \": \")\n",
    "                competencies = skill_parts[1].split(\", \")\n",
    "                for competency in competencies:\n",
    "                    competency = competency.strip()\n",
    "                    paragraph.add_run(\"\\n   • \")\n",
    "                    bullet_point = paragraph.add_run(competency)\n",
    "                    bullet_point.font.size = Pt(11)\n",
    "                    \n",
    "                paragraph.add_run(\"\\n\")\n",
    "                paragraph.add_run(\"\\n\")  # Add new line after each skill section\n",
    "        "
   ]
  },
  {
   "cell_type": "code",
   "execution_count": 253,
   "metadata": {},
   "outputs": [],
   "source": [
    "# Replace Work summary\n",
    "for paragraph in new_file.paragraphs:\n",
    "    if \"${worksummary}\" in paragraph.text:\n",
    "        paragraph.clear()\n",
    "        for project in profile_data[\"Work Summary\"]:\n",
    "            project_paragraph = new_file.add_paragraph()\n",
    "            bold_text(project_paragraph, \"Project: \")\n",
    "            project_paragraph.add_run(project[\"Project\"])\n",
    "            new_file.add_paragraph(f\"Environment: {project['Environment']}\")\n",
    "            new_file.add_paragraph(f\"Outline: {project['Outline']}\")\n",
    "            new_file.add_paragraph(f\"Responsibilities: {project['Responsibilities']}\")\n",
    "            new_file.add_paragraph(\"\\n\")  # Add new line after each project"
   ]
  },
  {
   "cell_type": "code",
   "execution_count": 254,
   "metadata": {},
   "outputs": [
    {
     "name": "stdout",
     "output_type": "stream",
     "text": [
      "Document saved\n"
     ]
    }
   ],
   "source": [
    "set_font_style(new_file, font_name='Arial')\n",
    "\n",
    "new_file.save('MunazzaNewSampleFormatCV.docx')\n",
    "print(f\"Document saved\")"
   ]
  },
  {
   "cell_type": "code",
   "execution_count": null,
   "metadata": {},
   "outputs": [],
   "source": []
  },
  {
   "cell_type": "code",
   "execution_count": null,
   "metadata": {},
   "outputs": [],
   "source": []
  }
 ],
 "metadata": {
  "kernelspec": {
   "display_name": "Python 3",
   "language": "python",
   "name": "python3"
  },
  "language_info": {
   "codemirror_mode": {
    "name": "ipython",
    "version": 3
   },
   "file_extension": ".py",
   "mimetype": "text/x-python",
   "name": "python",
   "nbconvert_exporter": "python",
   "pygments_lexer": "ipython3",
   "version": "3.12.4"
  }
 },
 "nbformat": 4,
 "nbformat_minor": 2
}
