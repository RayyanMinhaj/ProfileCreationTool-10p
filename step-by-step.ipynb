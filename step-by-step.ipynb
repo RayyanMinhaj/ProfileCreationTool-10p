{
 "cells": [
  {
   "cell_type": "markdown",
   "metadata": {},
   "source": [
    "# 10Pearls - User Profile Creation Tool \n",
    "---"
   ]
  },
  {
   "cell_type": "code",
   "execution_count": null,
   "metadata": {},
   "outputs": [],
   "source": [
    "pip install -r requirements.txt"
   ]
  },
  {
   "cell_type": "code",
   "execution_count": 2,
   "metadata": {},
   "outputs": [],
   "source": [
    "import os\n",
    "import tempfile\n",
    "from docx.shared import Pt\n",
    "from openai import Client\n",
    "from docx import Document\n",
    "from docx.enum.section import WD_SECTION\n",
    "from dotenv import load_dotenv\n",
    "from python_docx_replace import docx_replace\n",
    "import re"
   ]
  },
  {
   "cell_type": "markdown",
   "metadata": {},
   "source": [
    "### Uploading the File\n",
    "Keep in mind this works exclusively with old profile formats and not CVs"
   ]
  },
  {
   "cell_type": "code",
   "execution_count": 3,
   "metadata": {},
   "outputs": [],
   "source": [
    "load_dotenv()\n",
    "key = os.getenv(\"OPENAI_API_KEY\")"
   ]
  },
  {
   "cell_type": "code",
   "execution_count": 54,
   "metadata": {},
   "outputs": [],
   "source": [
    "old_doc_path = os.path.join('samples', 'Munazza Jamal - QA Manual.docx')\n",
    "old_doc = Document(old_doc_path)\n",
    "\n",
    "old_doc_text = \"\"\n",
    "\n",
    "for paragraph in old_doc.paragraphs:\n",
    "    old_doc_text += paragraph.text + \"\\n\"\n",
    "\n",
    "\n",
    "#print(old_doc_text)"
   ]
  },
  {
   "cell_type": "code",
   "execution_count": 55,
   "metadata": {},
   "outputs": [],
   "source": [
    "job_description = \"They have a need of at least 2 to 3 Data Engineers with solid experience in Databricks, and creating and manipulating ETL jobs. Databricks certification will be ideal.\""
   ]
  },
  {
   "cell_type": "markdown",
   "metadata": {},
   "source": [
    "### Passing text through OpenAI API "
   ]
  },
  {
   "cell_type": "code",
   "execution_count": 56,
   "metadata": {},
   "outputs": [],
   "source": [
    "client = Client(api_key=key)\n",
    "\n",
    "prompt = f\"\"\"Here is the CV/Resume of a person, I want you to efficiently convert the following profile into the new format provided below .\n",
    "I also need you to compare the following job decription (which is basically a requirement or need for a person) with the person's profile and give me a percentage of how likely the person\n",
    "is to be a match for the job. I also want you to give me the missing keywords that are present in the job description but not in the person's profile  \n",
    "Ensure the output is consistently structured as follows:\n",
    "\n",
    "Job Description:\n",
    "{job_description}\n",
    "\n",
    "Old format:\n",
    "{old_doc_text}\n",
    "\n",
    "New format:\n",
    "\n",
    "Resource Name: (Extract and display the profile's Resource Name as the heading)\n",
    "Percentage Match: (Percentage of how much the person matches the job)\n",
    "Missing Keywords: (Keywords that are present in job description but not in users profile)\n",
    "Job Role: (Extract and display the profile's Job Role from the summary as the heading)\n",
    "Summary: (Keep the summary the same)\n",
    "Key Skills & Competencies: (Identify and extract at least 6 attributes from the profile and explain them. Examples include \"technical expertise\", \"technical toolkit\", \"communication and collaboration\")\n",
    "Academic Summary: (Display as provided)\n",
    "Work Summary: (Provide in detailed paragraphs without altering any information. For each project, include the following details)\n",
    "   - Project 1, 2 or whatever: \n",
    "   - Environment: (Always identify and display the job role from the respective project)\n",
    "   - Project Name: (Display under the \"Project Name\" heading)\n",
    "   - Outline and Responsibilities: (For each project, detail the outline and responsibilities)\n",
    "\n",
    "\n",
    "                     \"\"\"\n",
    "\n",
    "\n",
    "\n",
    "response = client.chat.completions.create(\n",
    "    model='gpt-3.5-turbo-16k',\n",
    "    messages=[{\"role\": \"assistant\", \"content\": [{\"type\": \"text\", \"text\": prompt}]}],\n",
    "    max_tokens=2000,\n",
    "    temperature=0.2,\n",
    "    top_p=1.0\n",
    ")"
   ]
  },
  {
   "cell_type": "code",
   "execution_count": 57,
   "metadata": {},
   "outputs": [
    {
     "name": "stdout",
     "output_type": "stream",
     "text": [
      "Resource Name: Munazza Jamal\n",
      "Percentage Match: 40%\n",
      "Missing Keywords: Data Engineers, Databricks certification\n",
      "Job Role: Manual and Automation Software Tester\n",
      "Summary: A highly motivated resource with 5+ years of experience in the field of Manual and Automation software testing. Understands and possesses test management skills as well as automation scripting skills under the best tools and frameworks. Skilled in Smoke Testing, Functional Testing, Integration Testing, System Testing, User Interface testing etc. Have proven expertise in working on different types of test deliverables – Test Plans, Test Cases, Testing Strategies, Test scripts and Test summary reports. Very well acquainted with Test Management and Defect tracking systems such as JIRA and Azure DevOps. Experience in leading, mentoring and guiding the QA team. Also proficient in Test Automation tools such as Selenium WebDriver, Appium, and Cypress.\n",
      "\n",
      "Key Skills & Competencies:\n",
      "1. Technical Expertise: Munazza has 5+ years of experience in manual and automation software testing, with a strong understanding of test management and defect tracking systems.\n",
      "2. Technical Toolkit: Munazza is skilled in using tools such as Selenium WebDriver, Appium, and Cypress for test automation.\n",
      "3. Communication and Collaboration: Munazza has experience in leading, mentoring, and guiding QA teams, demonstrating strong communication and collaboration skills.\n",
      "\n",
      "Academic Summary:\n",
      "- Master of Science in Project Management\n",
      "- Bachelor of Science in Computer Science\n",
      "\n",
      "Work Summary:\n",
      "1. Food Delivery – Web / Mobile Application & Backend Services\n",
      "   - Environment: Java, Android, iOS, Selenium, Appium, Angular, Postman, Node.JS\n",
      "   - Outline: A web and mobile application that provides a connection tool that brings all things food together so that shoppers can find exactly what they need and what they're looking for and can have it delivered and shipped from anywhere at any time.\n",
      "   - Responsibilities: Designed, developed and managed automated web application for functional and regression testing using Selenium WebDriver with JAVA. Performed web manual testing (API, functional and regression). Performed manual testing (functional app testing, performance testing, API testing, usability app testing, compatibility app testing, localization app testing) of mobile application. Reported and verified bugs on Jira. Automated test cases for mobile through Appium with Java using data-driven and Page Object Model approach. Integrated allure report with the test scripts.\n",
      "\n",
      "2. Integrated Property Tax Software – Web Application & Backend Services\n",
      "   - Environment: C#, Selenium, Git, Visual Studio, Angular, Xunit\n",
      "   - Outline: A web application that determines the monetary amounts of property tax due to the County, issue property tax bills, collect property tax payments and distribute the funds once they are collected.\n",
      "   - Responsibilities: Performed end-to-end automation testing using Selenium Webdriver with C#. Performed manual testing for different modules. Established a database connection with the Selenium C# script. Created test plan and test cases. Reported/verified bugs on Azure.\n",
      "\n",
      "3. ERP Sales – Desktop Application and Backend Services\n",
      "   - Environment: Visual Studio, Vb.Net, MS-SQL\n",
      "   - Outline: A desktop application based on ERP solution for enabling customers to book and track orders, manage deliveries, as well as generate invoices, schemes and pricing.\n",
      "   - Responsibilities: Developed and maintain desktop-based business applications built on ASP.NET. Worked on scripting and performed unit testing. Worked on WinForms and review integrations between applications. Implemented procedures for gathering and analysis of user and business needs for solutions. Worked on troubleshooting, debugging and resolution of production issues along with support services.\n",
      "\n",
      "4. Services Calling System\n",
      "   - Environment: Bash scripting, Linux, Shell\n",
      "   - Outline: A services calling application that generates the data and call multiple services\n",
      "   - Responsibilities: Generated bash file to send email to notify service using mutt. Implemented services calling through script. Created bash scripts to fetch the common files from the server.\n",
      "\n",
      "5. Free Medicare System\n",
      "   - Environment: Cypress, JavaScript, Angular, Mochawesome, Node.js\n",
      "   - Outline: A free Medicare knowledge base for consumers, designed to share basic knowledge about Medicare to help consumers make better Medicare decisions\n",
      "   - Responsibilities: Build and enhanced automated test framework using Cypress and Page Object Model concepts. Designed and developed Test Plans, Test Cases, and Test Scripts and performed Manual testing on the entire application. Load testing through JMeter and generated dashboard reports. Implemented API testing using Cypress.\n",
      "\n",
      "6. Travel Insurance System - Web Application\n",
      "   - Environment: Selenium WebDriver, Java, Maven, IntelliJ\n",
      "   - Outline: Web-based travel insurance application that acts as a link between travel agencies and insurance companies. It enables travel agents to issue insurance policies from various insurance companies and select them based on their clients’ needs.\n",
      "   - Responsibilities: Executed and automated test cases using Selenium WebDriver with Java. Reported and verified bugs/issues. Created a smoke and regression run to verify the test cases and share them with the client. Tested Rest API using postman.\n",
      "\n",
      "7. HR, ESS, and Payroll Solutions – Web / Mobile Application & Backend Services\n",
      "   - Environment: Selenium WebDriver, C#, Angular, .Net, JavaScript, tfs2017, Appium\n",
      "   - Outline: A web and mobile application that provides an ease to employees of the organization to perform all human resource, employee self-services and payroll operations in one place. The application comprising of assessments like behavioral profiling and personality profiling which enable leaders to identify the best candidates for each job.\n",
      "   - Responsibilities: Designed, developed, and managed automated test projects for functional, performance, and regression testing of web applications using Selenium WebDriver. Created test automation framework with C#, Selenium WebDriver and NUnit. Created and Maintained automation test cases for Mobile applications using Appium in C#. Created automation scripts for the regression test suite. Automated deployment process using PowerShell script on Azure. Experienced in end-to-end automation for all build and CI/CD. Ensured build testing through automated run cases after every build and send automation reports over email.\n"
     ]
    }
   ],
   "source": [
    "resp = response.choices[0].message.content\n",
    "print(resp)"
   ]
  },
  {
   "cell_type": "markdown",
   "metadata": {},
   "source": [
    "### Processing the response \n",
    "Removing additional line spaces so that response is always in a fixed format"
   ]
  },
  {
   "cell_type": "code",
   "execution_count": 58,
   "metadata": {},
   "outputs": [],
   "source": [
    "resp = resp.split(\"\\n\")"
   ]
  },
  {
   "cell_type": "code",
   "execution_count": 38,
   "metadata": {},
   "outputs": [
    {
     "data": {
      "text/plain": [
       "''"
      ]
     },
     "execution_count": 38,
     "metadata": {},
     "output_type": "execute_result"
    }
   ],
   "source": [
    "resp[2]"
   ]
  },
  {
   "cell_type": "code",
   "execution_count": 59,
   "metadata": {},
   "outputs": [],
   "source": [
    "resp.remove('')"
   ]
  },
  {
   "cell_type": "code",
   "execution_count": 60,
   "metadata": {},
   "outputs": [
    {
     "name": "stdout",
     "output_type": "stream",
     "text": [
      "['Resource Name: Munazza Jamal', 'Percentage Match: 40%', 'Missing Keywords: Data Engineers, Databricks certification', 'Job Role: Manual and Automation Software Tester', 'Summary: A highly motivated resource with 5+ years of experience in the field of Manual and Automation software testing. Understands and possesses test management skills as well as automation scripting skills under the best tools and frameworks. Skilled in Smoke Testing, Functional Testing, Integration Testing, System Testing, User Interface testing etc. Have proven expertise in working on different types of test deliverables – Test Plans, Test Cases, Testing Strategies, Test scripts and Test summary reports. Very well acquainted with Test Management and Defect tracking systems such as JIRA and Azure DevOps. Experience in leading, mentoring and guiding the QA team. Also proficient in Test Automation tools such as Selenium WebDriver, Appium, and Cypress.', 'Key Skills & Competencies:', '1. Technical Expertise: Munazza has 5+ years of experience in manual and automation software testing, with a strong understanding of test management and defect tracking systems.', '2. Technical Toolkit: Munazza is skilled in using tools such as Selenium WebDriver, Appium, and Cypress for test automation.', '3. Communication and Collaboration: Munazza has experience in leading, mentoring, and guiding QA teams, demonstrating strong communication and collaboration skills.', '', 'Academic Summary:', '- Master of Science in Project Management', '- Bachelor of Science in Computer Science', '', 'Work Summary:', '1. Food Delivery – Web / Mobile Application & Backend Services', '   - Environment: Java, Android, iOS, Selenium, Appium, Angular, Postman, Node.JS', \"   - Outline: A web and mobile application that provides a connection tool that brings all things food together so that shoppers can find exactly what they need and what they're looking for and can have it delivered and shipped from anywhere at any time.\", '   - Responsibilities: Designed, developed and managed automated web application for functional and regression testing using Selenium WebDriver with JAVA. Performed web manual testing (API, functional and regression). Performed manual testing (functional app testing, performance testing, API testing, usability app testing, compatibility app testing, localization app testing) of mobile application. Reported and verified bugs on Jira. Automated test cases for mobile through Appium with Java using data-driven and Page Object Model approach. Integrated allure report with the test scripts.', '', '2. Integrated Property Tax Software – Web Application & Backend Services', '   - Environment: C#, Selenium, Git, Visual Studio, Angular, Xunit', '   - Outline: A web application that determines the monetary amounts of property tax due to the County, issue property tax bills, collect property tax payments and distribute the funds once they are collected.', '   - Responsibilities: Performed end-to-end automation testing using Selenium Webdriver with C#. Performed manual testing for different modules. Established a database connection with the Selenium C# script. Created test plan and test cases. Reported/verified bugs on Azure.', '', '3. ERP Sales – Desktop Application and Backend Services', '   - Environment: Visual Studio, Vb.Net, MS-SQL', '   - Outline: A desktop application based on ERP solution for enabling customers to book and track orders, manage deliveries, as well as generate invoices, schemes and pricing.', '   - Responsibilities: Developed and maintain desktop-based business applications built on ASP.NET. Worked on scripting and performed unit testing. Worked on WinForms and review integrations between applications. Implemented procedures for gathering and analysis of user and business needs for solutions. Worked on troubleshooting, debugging and resolution of production issues along with support services.', '', '4. Services Calling System', '   - Environment: Bash scripting, Linux, Shell', '   - Outline: A services calling application that generates the data and call multiple services', '   - Responsibilities: Generated bash file to send email to notify service using mutt. Implemented services calling through script. Created bash scripts to fetch the common files from the server.', '', '5. Free Medicare System', '   - Environment: Cypress, JavaScript, Angular, Mochawesome, Node.js', '   - Outline: A free Medicare knowledge base for consumers, designed to share basic knowledge about Medicare to help consumers make better Medicare decisions', '   - Responsibilities: Build and enhanced automated test framework using Cypress and Page Object Model concepts. Designed and developed Test Plans, Test Cases, and Test Scripts and performed Manual testing on the entire application. Load testing through JMeter and generated dashboard reports. Implemented API testing using Cypress.', '', '6. Travel Insurance System - Web Application', '   - Environment: Selenium WebDriver, Java, Maven, IntelliJ', '   - Outline: Web-based travel insurance application that acts as a link between travel agencies and insurance companies. It enables travel agents to issue insurance policies from various insurance companies and select them based on their clients’ needs.', '   - Responsibilities: Executed and automated test cases using Selenium WebDriver with Java. Reported and verified bugs/issues. Created a smoke and regression run to verify the test cases and share them with the client. Tested Rest API using postman.', '', '7. HR, ESS, and Payroll Solutions – Web / Mobile Application & Backend Services', '   - Environment: Selenium WebDriver, C#, Angular, .Net, JavaScript, tfs2017, Appium', '   - Outline: A web and mobile application that provides an ease to employees of the organization to perform all human resource, employee self-services and payroll operations in one place. The application comprising of assessments like behavioral profiling and personality profiling which enable leaders to identify the best candidates for each job.', '   - Responsibilities: Designed, developed, and managed automated test projects for functional, performance, and regression testing of web applications using Selenium WebDriver. Created test automation framework with C#, Selenium WebDriver and NUnit. Created and Maintained automation test cases for Mobile applications using Appium in C#. Created automation scripts for the regression test suite. Automated deployment process using PowerShell script on Azure. Experienced in end-to-end automation for all build and CI/CD. Ensured build testing through automated run cases after every build and send automation reports over email.']\n"
     ]
    }
   ],
   "source": [
    "print(resp)"
   ]
  },
  {
   "cell_type": "code",
   "execution_count": 61,
   "metadata": {},
   "outputs": [],
   "source": [
    "text = \"\\n\".join(resp)\n",
    "\n",
    "# Use regex to extract the required sections\n",
    "resource_name = re.search(r\"Resource Name:\\s*(.*)\", text).group(1)\n",
    "job_role = re.search(r\"Job Role:\\s*(.*)\", text).group(1)\n",
    "percentage_match = re.search(r\"Percentage Match:\\s*(.*)\", text).group(1)\n",
    "missing_keywords = re.search(r\"Missing Keywords:\\s*(.*)\", text).group(1)\n",
    "summary = re.search(r\"Summary:\\s*(.*)\", text).group(1)\n",
    "key_skills_competencies = re.search(r\"Key Skills & Competencies:\\s*(.*?)Academic Summary:\", text, re.DOTALL).group(1).strip()\n",
    "academic_summary = re.search(r\"Academic Summary:\\s*(.*?)Work Summary:\", text, re.DOTALL).group(1).strip()\n",
    "work_summary = re.search(r\"Work Summary:\\s*(.*)\", text, re.DOTALL).group(1).strip()\n",
    "\n"
   ]
  },
  {
   "cell_type": "code",
   "execution_count": 68,
   "metadata": {},
   "outputs": [],
   "source": [
    "#print(work_summary)"
   ]
  },
  {
   "cell_type": "code",
   "execution_count": 69,
   "metadata": {},
   "outputs": [
    {
     "name": "stdout",
     "output_type": "stream",
     "text": [
      "Resource Name: Munazza Jamal\n",
      "Job Role: Manual and Automation Software Tester\n",
      "Percentage Match: 40%\n",
      "Missing Keywords: Data Engineers, Databricks certification\n",
      "Summary: A highly motivated resource with 5+ years of experience in the field of Manual and Automation software testing. Understands and possesses test management skills as well as automation scripting skills under the best tools and frameworks. Skilled in Smoke Testing, Functional Testing, Integration Testing, System Testing, User Interface testing etc. Have proven expertise in working on different types of test deliverables – Test Plans, Test Cases, Testing Strategies, Test scripts and Test summary reports. Very well acquainted with Test Management and Defect tracking systems such as JIRA and Azure DevOps. Experience in leading, mentoring and guiding the QA team. Also proficient in Test Automation tools such as Selenium WebDriver, Appium, and Cypress.\n",
      "Key Skills & Competencies: ['1. Technical Expertise: Munazza has 5+ years of experience in manual and automation software testing, with a strong understanding of test management and defect tracking systems.', '2. Technical Toolkit: Munazza is skilled in using tools such as Selenium WebDriver, Appium, and Cypress for test automation.', '3. Communication and Collaboration: Munazza has experience in leading, mentoring, and guiding QA teams, demonstrating strong communication and collaboration skills.']\n",
      "Academic Summary: ['- Master of Science in Project Management', '- Bachelor of Science in Computer Science']\n",
      "Work Summary: [{'Project': 'Food Delivery – Web / Mobile Application & Backend Services', 'Environment': 'Java, Android, iOS, Selenium, Appium, Angular, Postman, Node.JS', 'Outline': \"A web and mobile application that provides a connection tool that brings all things food together so that shoppers can find exactly what they need and what they're looking for and can have it delivered and shipped from anywhere at any time.\", 'Responsibilities': 'Designed, developed and managed automated web application for functional and regression testing using Selenium WebDriver with JAVA. Performed web manual testing (API, functional and regression). Performed manual testing (functional app testing, performance testing, API testing, usability app testing, compatibility app testing, localization app testing) of mobile application. Reported and verified bugs on Jira. Automated test cases for mobile through Appium with Java using data-driven and Page Object Model approach. Integrated allure report with the test scripts.'}, {'Project': 'Integrated Property Tax Software – Web Application & Backend Services', 'Environment': 'C#, Selenium, Git, Visual Studio, Angular, Xunit', 'Outline': 'A web application that determines the monetary amounts of property tax due to the County, issue property tax bills, collect property tax payments and distribute the funds once they are collected.', 'Responsibilities': 'Performed end-to-end automation testing using Selenium Webdriver with C#. Performed manual testing for different modules. Established a database connection with the Selenium C# script. Created test plan and test cases. Reported/verified bugs on Azure.'}, {'Project': 'ERP Sales – Desktop Application and Backend Services', 'Environment': 'Visual Studio, Vb.Net, MS-SQL', 'Outline': 'A desktop application based on ERP solution for enabling customers to book and track orders, manage deliveries, as well as generate invoices, schemes and pricing.', 'Responsibilities': 'Developed and maintain desktop-based business applications built on ASP.NET. Worked on scripting and performed unit testing. Worked on WinForms and review integrations between applications. Implemented procedures for gathering and analysis of user and business needs for solutions. Worked on troubleshooting, debugging and resolution of production issues along with support services.'}, {'Project': 'Services Calling System', 'Environment': 'Bash scripting, Linux, Shell', 'Outline': 'A services calling application that generates the data and call multiple services', 'Responsibilities': 'Generated bash file to send email to notify service using mutt. Implemented services calling through script. Created bash scripts to fetch the common files from the server.'}, {'Project': 'Free Medicare System', 'Environment': 'Cypress, JavaScript, Angular, Mochawesome, Node.js', 'Outline': 'A free Medicare knowledge base for consumers, designed to share basic knowledge about Medicare to help consumers make better Medicare decisions', 'Responsibilities': 'Build and enhanced automated test framework using Cypress and Page Object Model concepts. Designed and developed Test Plans, Test Cases, and Test Scripts and performed Manual testing on the entire application. Load testing through JMeter and generated dashboard reports. Implemented API testing using Cypress.'}, {'Project': 'Travel Insurance System - Web Application', 'Environment': 'Selenium WebDriver, Java, Maven, IntelliJ', 'Outline': 'Web-based travel insurance application that acts as a link between travel agencies and insurance companies. It enables travel agents to issue insurance policies from various insurance companies and select them based on their clients’ needs.', 'Responsibilities': 'Executed and automated test cases using Selenium WebDriver with Java. Reported and verified bugs/issues. Created a smoke and regression run to verify the test cases and share them with the client. Tested Rest API using postman.'}]\n"
     ]
    }
   ],
   "source": [
    "# Store in appropriate data structures\n",
    "profile_data = {\n",
    "    \"Resource Name\": resource_name,\n",
    "    \"Job Role\": job_role,\n",
    "    \"Percentage Match\": percentage_match,\n",
    "    \"Missing Keywords\": missing_keywords,\n",
    "    \"Summary\": summary,\n",
    "    \"Key Skills & Competencies\": key_skills_competencies.split(\"\\n\"),\n",
    "    \"Academic Summary\": academic_summary.split(\"\\n\"),\n",
    "    \"Work Summary\": []\n",
    "}\n",
    "\n",
    "# Extract individual projects in Work Summary\n",
    "projects = re.findall(r\"\\d+\\.\\s(.*?)\\n\\s+-\\sEnvironment:\\s(.*?)\\n\\s+-\\sOutline:\\s(.*?)\\n\\s+-\\sResponsibilities:\\s(.*?)\\n(?=\\d+\\.|\\Z)\", work_summary, re.DOTALL)\n",
    "for project in projects:\n",
    "    project_data = {\n",
    "        \"Project\": project[0],\n",
    "        \"Environment\": project[1],\n",
    "        \"Outline\": project[2].strip(),\n",
    "        \"Responsibilities\": project[3].strip()\n",
    "    }\n",
    "    profile_data[\"Work Summary\"].append(project_data)\n",
    "\n",
    "# Print extracted data\n",
    "for key, value in profile_data.items():\n",
    "    print(f\"{key}: {value}\")"
   ]
  },
  {
   "cell_type": "code",
   "execution_count": 74,
   "metadata": {},
   "outputs": [
    {
     "name": "stdout",
     "output_type": "stream",
     "text": [
      "Food Delivery – Web / Mobile Application & Backend Services\n"
     ]
    }
   ],
   "source": [
    "print(profile_data['Work Summary'][0]['Project'])"
   ]
  },
  {
   "cell_type": "markdown",
   "metadata": {},
   "source": [
    "### Generating Word Document\n",
    "Will include everything according to the provided format except for \"Percentage Match\" and \"Missing Keywords\""
   ]
  },
  {
   "cell_type": "code",
   "execution_count": null,
   "metadata": {},
   "outputs": [],
   "source": []
  },
  {
   "cell_type": "code",
   "execution_count": null,
   "metadata": {},
   "outputs": [],
   "source": []
  }
 ],
 "metadata": {
  "kernelspec": {
   "display_name": "Python 3",
   "language": "python",
   "name": "python3"
  },
  "language_info": {
   "codemirror_mode": {
    "name": "ipython",
    "version": 3
   },
   "file_extension": ".py",
   "mimetype": "text/x-python",
   "name": "python",
   "nbconvert_exporter": "python",
   "pygments_lexer": "ipython3",
   "version": "3.12.4"
  }
 },
 "nbformat": 4,
 "nbformat_minor": 2
}
