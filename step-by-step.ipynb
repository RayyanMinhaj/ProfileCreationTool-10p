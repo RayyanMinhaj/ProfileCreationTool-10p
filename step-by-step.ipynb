{
 "cells": [
  {
   "cell_type": "markdown",
   "metadata": {},
   "source": [
    "# 10Pearls - User Profile Creation Tool \n",
    "---"
   ]
  },
  {
   "cell_type": "code",
   "execution_count": null,
   "metadata": {},
   "outputs": [],
   "source": [
    "pip install -r requirements.txt"
   ]
  },
  {
   "cell_type": "code",
   "execution_count": 2,
   "metadata": {},
   "outputs": [],
   "source": [
    "import os\n",
    "import tempfile\n",
    "from docx.shared import Pt\n",
    "from openai import Client\n",
    "from docx import Document\n",
    "from docx.enum.section import WD_SECTION\n",
    "from dotenv import load_dotenv\n",
    "from python_docx_replace import docx_replace\n",
    "import re"
   ]
  },
  {
   "cell_type": "markdown",
   "metadata": {},
   "source": [
    "### Uploading the File\n",
    "Keep in mind this works exclusively with old profile formats and not CVs"
   ]
  },
  {
   "cell_type": "code",
   "execution_count": 87,
   "metadata": {},
   "outputs": [],
   "source": [
    "load_dotenv()\n",
    "key = os.getenv(\"OPENAI_API_KEY\")"
   ]
  },
  {
   "cell_type": "code",
   "execution_count": 88,
   "metadata": {},
   "outputs": [
    {
     "name": "stdout",
     "output_type": "stream",
     "text": [
      "Sheharyar Mohsin\n",
      "A Senior Salesforce Consultant with 7 years of experience in the field of Salesforce CRM and professional experience in software analysis and development. Worked on Salesforce Experience Cloud, Sales Cloud and Service Cloud. Skilled in Lightening Web components and Aura. Experienced with different stages of software development lifecycle. \n",
      "\n",
      "Academic Summary:\n",
      "Master of Science in Computer Science \n",
      "Bachelor of Science in Computer Science \n",
      "\n",
      "Certification/ Training Summary:\n",
      "Platform Developer 1 – Salesforce\n",
      "Administrator – Salesforce\n",
      "Platform App Builder – Salesforce\n",
      "Sales Cloud Consultant – Salesforce\n",
      "Service Cloud Consultant – Salesforce\n",
      "Sharing and Visibility Architect – Salesforce\n",
      "Data Architect – Salesforce\n",
      "Application Architect – Salesforce\n",
      "\n",
      "Tech Stack/ Skills:\n",
      "Languages: HTML, CSS, JavaScript, SOQL, Apex\n",
      "Development: Lightning Web Components, Lightning Aura Components, Visualforce Pages, Force.com sites, Integration with JSON payload, Creating Custom Fields, Validation Rules & Formula Fields\n",
      "Configuration: Configuring Salesforce Workflows, Process Builders & Flows. Setting up Users, Page Layouts, Profiles, Permission Sets and Sharing Rules. Deployment using Packages, Changesets and Force.com IDE. Configuration of OOTB Functionalities provided by Salesforce (Omni Channel, Live Chat, Web-to-case, Email-to-case etc.). \n",
      "Work Environments: Agile (Scrum)\n",
      "\n",
      "Work Summary:\n",
      "\n",
      "Retail Business Support and Enhancement Project\n",
      "Environment: Experience Cloud, Service Cloud, Aura\n",
      "Outline: The project is a retail business having different products. Salesforce was mainly used for after-sales processes like warranty, refund, replacement, etc. Also includes live agent chat and case management.\n",
      "Responsibilities:\n",
      "Worked as Senior Salesforce Developer\n",
      "Worked with case management (web-to-case, email-t-case etc.)\n",
      "Worked with Lightning Aura components\n",
      "Worked on Custom logic for Apex triggers\n",
      "Carried out custom development with Experience Cloud using Aura components\n",
      "Worked with Record types, page layouts, and lightning pages\n",
      "\n",
      "Real Estate Services\n",
      "Environment: Service and Experience Cloud, Aura\n",
      "Outline: A support project for Service and Experience Cloud. This project involved leveraging out-of-the-box functionalities provided by Salesforce to implement client requirements of Lead assignment rules, Case assignment rules, and Community customizations.\n",
      "Responsibilities:\n",
      "Worked as a Salesforce Developer\n",
      "Developed Lightning Aura Components for the Salesforce Communities\n",
      "Developed and deployed custom solutions using Lightning Components, Apex classes and Apex Triggers\n",
      "Developed test classes for Apex class and improved code coverage\n",
      "Worked on different Email Templates for sending Emails through Salesforce\n",
      "Worked with process builder for case management\n",
      "\n",
      "Real-Estate Domain Implementation\n",
      "Environment: Sales Cloud, LWC\n",
      "Outline: The project was focused on the implementation of a Sales cycle for real estate business. This was to assist the users in lead management and then conversion of the leads to actual sales of the units in a given project that was built by the builder company. It also included the processes that were required after the sale of a unit has been done like transfer of a unit, cancellation of a unit, sale-purchase agreement, etc.\n",
      "Responsibilities:\n",
      "Worked as a Senior Salesforce Developer to work with custom screen development with LWC\n",
      "Conducted PoC for the Field Service Lightning in Salesforce and implemented the initial requirements\n",
      "Worked on Apex triggers, batch classes, and flows\n",
      "Worked in a role to assist junior resources\n",
      "\n",
      "Migration of Metadata with Multiple Orgs\n",
      "Environment: Sales Cloud\n",
      "Outline: The customer has multiple orgs which have different customizations for multiple vendors. There are some timely migrations and merging of metadata within these orgs and then the client’s support team builds customizations on top of it.\n",
      "Responsibilities:\n",
      "Worked as Salesforce Consultant\n",
      "Migrated metadata components using VS code\n",
      "Cleansed metadata and dependencies of components\n",
      "Supported and fixed enhancements\n",
      "Worked on XML package extension usage\n",
      "\n",
      "Process Automation Optimization Project\n",
      "Environment: Sales Cloud \n",
      "Outline: The project implemented a sales cloud that has multiple product lines. This was a support project and the target for this was to optimize the process automation like Process builders and flows.\n",
      "Responsibilities:\n",
      "Worked as a Salesforce developer\n",
      "Worked on Process automation optimizations\n",
      "Converted process builder to flows\n",
      "Provided Support for production issues\n",
      "Worked with Apex triggers\n",
      "\n",
      "AppExchange Product \n",
      "Environment: Sales Cloud, Aura\n",
      "Outline: A Salesforce AppExchange product that is based on POS that is fully integrated with the highest caliber of Loan Origination Systems that credits agencies to provide pre-qualification for any borrower.\n",
      "Responsibilities:\n",
      "Worked as a Salesforce Developer on this AppExchange Product development\n",
      "Developed and customized Lightning Aura Components and Visual Force pages using an extension, custom controllers, and standard controllers for multiple business scenarios such as Lead capture, API Callouts and showing API responses\n",
      "Worked on customization including records creating, updating, and deleting functionalities developed over Apex Trigger, VF pages, and Lightning Aura Component\n",
      "Created and maintained Custom Objects and fields using picklist values, validation rules, and formula fields on record type and Page layouts to the custom objects\n",
      "Worked on Force.com Sites using Visual Force pages applying customized JavaScript and HTML for Custom Web to lead Portal \n",
      "Worked on Integrations with Azure middleware using multiple REST API Callouts through Configuration done with Custom Meta Data, Protected Custom Settings, and authentication using Named Credential\n",
      "Ensured that the product passes through Salesforce Security Review \n",
      "Worked on apex sharing for enforcing the Security model for Field Level Security and object level (Create, Read, Update, Delete) in code\n",
      "Developed test classes for Apex class and worked for improving code coverage\n",
      "\n",
      "\n"
     ]
    }
   ],
   "source": [
    "old_doc_path = os.path.join('samples', 'Sheharyar Mohsin - Salesforce (2).docx')\n",
    "old_doc = Document(old_doc_path)\n",
    "\n",
    "old_doc_text = \"\"\n",
    "\n",
    "for paragraph in old_doc.paragraphs:\n",
    "    old_doc_text += paragraph.text + \"\\n\"\n",
    "\n",
    "\n",
    "print(old_doc_text)"
   ]
  },
  {
   "cell_type": "code",
   "execution_count": 89,
   "metadata": {},
   "outputs": [],
   "source": [
    "job_description = \"They have a need of at least 2 to 3 Data Engineers with solid experience in Databricks, and creating and manipulating ETL jobs. Databricks certification will be ideal.\""
   ]
  },
  {
   "cell_type": "code",
   "execution_count": 67,
   "metadata": {},
   "outputs": [],
   "source": [
    "job_description = \"Need a Full Stack Developer with MERN expertise in MongoDB, Express JS, React and Node\""
   ]
  },
  {
   "cell_type": "markdown",
   "metadata": {},
   "source": [
    "### Passing text through OpenAI API "
   ]
  },
  {
   "cell_type": "code",
   "execution_count": 90,
   "metadata": {},
   "outputs": [],
   "source": [
    "client = Client(api_key=key)\n",
    "\n",
    "prompt = f\"\"\"Here is the CV/Resume of a person, I want you to efficiently convert the following profile into the new format provided below .\n",
    "I also need you to compare the following job decription (which is basically a requirement or need for a person) with the person's profile and give me a percentage of how likely the person\n",
    "is to be a match for the job. I also want you to give me the missing keywords that are present in the job description but not in the person's profile  \n",
    "Ensure the output is consistently structured as follows:\n",
    "\n",
    "Job Description:\n",
    "{job_description}\n",
    "\n",
    "Old format:\n",
    "{old_doc_text}\n",
    "\n",
    "New format:\n",
    "\n",
    "Resource Name: (Extract and display the profile's Resource Name as the heading)\n",
    "Percentage Match: (Percentage of how much the person matches the job)\n",
    "Missing Keywords: (Keywords that are present in job description but not in users profile)\n",
    "Job Role: (Extract and display the profile's Job Role from the summary as the heading)\n",
    "Summary: (Keep the summary the same)\n",
    "Key Skills & Competencies: (Identify and extract at least 6 attributes from the profile and explain them. Examples include \"technical expertise\", \"technical toolkit\", \"communication and collaboration\")\n",
    "Academic Summary: (Display as provided)\n",
    "Work Summary: (Provide in detailed paragraphs without altering any information. For each project, include the following details)\n",
    "   - Project 1, 2 or whatever: (The name of the project, this CAN NOT be empty)\n",
    "   - Environment: (Always identify and display the job role from the respective project separated by commas)\n",
    "   - Project Name: (Display under the \"Project Name\" heading)\n",
    "   - Outline: (For each project, give the overview of the project )\n",
    "   - Responsibilities: (For each project, detail the responsibilities separated by commas, do NOT use points)\n",
    "\n",
    "\n",
    "                     \"\"\"\n",
    "\n",
    "\n",
    "\n",
    "response = client.chat.completions.create(\n",
    "    model='gpt-3.5-turbo-16k',\n",
    "    messages=[{\"role\": \"assistant\", \"content\": [{\"type\": \"text\", \"text\": prompt}]}],\n",
    "    max_tokens=3000,\n",
    "    temperature=0.2,\n",
    "    top_p=1.0\n",
    ")"
   ]
  },
  {
   "cell_type": "code",
   "execution_count": 91,
   "metadata": {},
   "outputs": [
    {
     "name": "stdout",
     "output_type": "stream",
     "text": [
      "Resource Name: Sheharyar Mohsin\n",
      "Percentage Match: 80%\n",
      "Missing Keywords: Databricks, ETL jobs, Databricks certification\n",
      "Job Role: Senior Salesforce Consultant\n",
      "Summary: A Senior Salesforce Consultant with 7 years of experience in the field of Salesforce CRM and professional experience in software analysis and development. Worked on Salesforce Experience Cloud, Sales Cloud and Service Cloud. Skilled in Lightening Web components and Aura. Experienced with different stages of software development lifecycle.\n",
      "\n",
      "Key Skills & Competencies:\n",
      "1. Technical Expertise: Skilled in Salesforce CRM, with experience in Salesforce Experience Cloud, Sales Cloud, and Service Cloud. Proficient in Lightning Web Components and Aura.\n",
      "2. Technical Toolkit: Experienced in HTML, CSS, JavaScript, SOQL, Apex. Familiar with Lightning Aura Components, Visualforce Pages, and Force.com sites. Knowledgeable in integration with JSON payload and creating custom fields, validation rules, and formula fields.\n",
      "3. Communication and Collaboration: Worked in Agile (Scrum) environments, collaborating with cross-functional teams and stakeholders to deliver successful projects. Strong communication skills for effective requirement gathering and client interaction.\n",
      "\n",
      "Academic Summary:\n",
      "- Master of Science in Computer Science\n",
      "- Bachelor of Science in Computer Science\n",
      "\n",
      "Work Summary:\n",
      "Project 1: Retail Business Support and Enhancement Project\n",
      "Environment: Experience Cloud, Service Cloud, Aura\n",
      "Outline: The project is a retail business having different products. Salesforce was mainly used for after-sales processes like warranty, refund, replacement, etc. Also includes live agent chat and case management.\n",
      "Responsibilities: Worked as Senior Salesforce Developer, worked with case management (web-to-case, email-to-case etc.), worked with Lightning Aura components, worked on Custom logic for Apex triggers, carried out custom development with Experience Cloud using Aura components, worked with Record types, page layouts, and lightning pages\n",
      "\n",
      "Project 2: Real Estate Services\n",
      "Environment: Service and Experience Cloud, Aura\n",
      "Outline: A support project for Service and Experience Cloud. This project involved leveraging out-of-the-box functionalities provided by Salesforce to implement client requirements of Lead assignment rules, Case assignment rules, and Community customizations.\n",
      "Responsibilities: Worked as a Salesforce Developer, developed Lightning Aura Components for the Salesforce Communities, developed and deployed custom solutions using Lightning Components, Apex classes and Apex Triggers, developed test classes for Apex class and improved code coverage, worked on different Email Templates for sending Emails through Salesforce, worked with process builder for case management\n",
      "\n",
      "Project 3: Real-Estate Domain Implementation\n",
      "Environment: Sales Cloud, LWC\n",
      "Outline: The project was focused on the implementation of a Sales cycle for real estate business. This was to assist the users in lead management and then conversion of the leads to actual sales of the units in a given project that was built by the builder company. It also included the processes that were required after the sale of a unit has been done like transfer of a unit, cancellation of a unit, sale-purchase agreement, etc.\n",
      "Responsibilities: Worked as a Senior Salesforce Developer to work with custom screen development with LWC, conducted PoC for the Field Service Lightning in Salesforce and implemented the initial requirements, worked on Apex triggers, batch classes, and flows, worked in a role to assist junior resources\n",
      "\n",
      "Project 4: Migration of Metadata with Multiple Orgs\n",
      "Environment: Sales Cloud\n",
      "Outline: The customer has multiple orgs which have different customizations for multiple vendors. There are some timely migrations and merging of metadata within these orgs and then the client’s support team builds customizations on top of it.\n",
      "Responsibilities: Worked as Salesforce Consultant, migrated metadata components using VS code, cleansed metadata and dependencies of components, supported and fixed enhancements, worked on XML package extension usage\n",
      "\n",
      "Project 5: Process Automation Optimization Project\n",
      "Environment: Sales Cloud\n",
      "Outline: The project implemented a sales cloud that has multiple product lines. This was a support project and the target for this was to optimize the process automation like Process builders and flows.\n",
      "Responsibilities: Worked as a Salesforce developer, worked on Process automation optimizations, converted process builder to flows, provided Support for production issues, worked with Apex triggers\n",
      "\n",
      "Project 6: AppExchange Product\n",
      "Environment: Sales Cloud, Aura\n",
      "Outline: A Salesforce AppExchange product that is based on POS that is fully integrated with the highest caliber of Loan Origination Systems that credits agencies to provide pre-qualification for any borrower.\n",
      "Responsibilities: Worked as a Salesforce Developer on this AppExchange Product development, developed and customized Lightning Aura Components and Visual Force pages using an extension, custom controllers, and standard controllers for multiple business scenarios such as Lead capture, API Callouts and showing API responses, worked on customization including records creating, updating, and deleting functionalities developed over Apex Trigger, VF pages, and Lightning Aura Component, created and maintained Custom Objects and fields using picklist values, validation rules, and formula fields on record type and Page layouts to the custom objects, worked on Force.com Sites using Visual Force pages applying customized JavaScript and HTML for Custom Web to lead Portal, worked on Integrations with Azure middleware using multiple REST API Callouts through Configuration done with Custom Meta Data, Protected Custom Settings, and authentication using Named Credential, ensured that the product passes through Salesforce Security Review, worked on apex sharing for enforcing the Security model for Field Level Security and object level (Create, Read, Update, Delete) in code, developed test classes for Apex class and worked for improving code coverage.\n"
     ]
    }
   ],
   "source": [
    "resp = response.choices[0].message.content\n",
    "print(resp)"
   ]
  },
  {
   "cell_type": "markdown",
   "metadata": {},
   "source": [
    "### Processing the response \n",
    "Removing additional line spaces so that response is always in a fixed format"
   ]
  },
  {
   "cell_type": "code",
   "execution_count": 92,
   "metadata": {},
   "outputs": [],
   "source": [
    "resp = resp.split(\"\\n\")"
   ]
  },
  {
   "cell_type": "code",
   "execution_count": 73,
   "metadata": {},
   "outputs": [
    {
     "data": {
      "text/plain": [
       "'Missing Keywords: MERN, MongoDB, Express JS, React, Node'"
      ]
     },
     "execution_count": 73,
     "metadata": {},
     "output_type": "execute_result"
    }
   ],
   "source": [
    "resp[2]"
   ]
  },
  {
   "cell_type": "code",
   "execution_count": 93,
   "metadata": {},
   "outputs": [],
   "source": [
    "resp.remove('')"
   ]
  },
  {
   "cell_type": "code",
   "execution_count": 75,
   "metadata": {},
   "outputs": [
    {
     "name": "stdout",
     "output_type": "stream",
     "text": [
      "['Resource Name: Muhammad Taha Qadri Rizvi', 'Percentage Match: 80%', 'Missing Keywords: MERN, MongoDB, Express JS, React, Node', 'Job Role: Full Stack Developer', 'Summary: A dynamic professional with 5+ years of experience in analyzing, designing, and developing in an agile environment. Have expertise in JavaScript-based tech stacks such as MERN and Angular on small to large-scale projects. Focused areas include full-stack development and architecture, writing readable code while ensuring quality. Have worked on existing products to provide support, develop new features, and fix the bugs on live products. Have excellent troubleshooting and analytical skills. A well-organized and self-motivated individual with an ability to work well with minimal supervision and meet deadlines.', 'Key Skills & Competencies:', '1. Technical Expertise: Muhammad has 5+ years of experience in analyzing, designing, and developing in an agile environment. He has expertise in JavaScript-based tech stacks such as MERN and Angular on small to large-scale projects.', '2. Technical Toolkit: Muhammad is proficient in languages such as JavaScript, TypeScript, C#, Java, C, and C++. He has experience with web development frameworks and tools like React JS, NodeJS, Next JS, Express, Redux, Saga, and more. He also has knowledge of databases like Rethink DB, Firebase, MySQL, and Mongo DB.', '3. Communication and Collaboration: Muhammad has collaborated with offshore client teams, technical experts, offshore managers, and product owners. He has participated in regular meetings and used communication tools like Slack and Microsoft Teams.', '4. Troubleshooting and Analytical Skills: Muhammad has excellent troubleshooting and analytical skills, which he has utilized to identify areas for improvement, conduct impact analysis, and enhance the codebase.', '5. Self-Motivated and Organized: Muhammad is a well-organized and self-motivated individual who can work well with minimal supervision and meet deadlines.', '6. Agile Development: Muhammad has experience working in agile environments, specifically with Scrum and Kanban methodologies.', 'Academic Summary: Bachelor of Science in Computer Science', '', 'Work Summary:', 'Project 1: Real State Management System', 'Environment: ReactJS, NodeJS, Next JS, Typescript, Sanity, Contentful, Netlify', 'Outline: It is a real estate platform that connects users with various shops and advisors located in different states. Users can easily search for properties within their state that are managed by specific shops or advisors. Additionally, our platform features a user-friendly Content Management System (CMS) on the backend, enabling administrators to effortlessly add multiple shops and advisor pages to the system.', 'Responsibilities: Full stack developer, NEXT JS integration with Sanity CMS, feature development, bug fixing, code reviews, adherence to best practices.', '', 'Project 2: Google Classroom Import', 'Environment: ReactJS, NodeJS, Typescript, Jest, Serverless Framework, MySQL', 'Outline: This application enables instructors to import their content from Google Classroom directly into our client’s product. After each import, instructors can assign the imported materials, send announcements, and grade coursework from Google Classroom without leaving the current application.', 'Responsibilities: Full stack developer, application development from scratch using MERN, unit testing, integration testing, participation in meetings, code reviews, communication using Slack and Jira.', '', 'Project 3: Online Property Portal', 'Environment: ReactJS, ExpressJS, NodeJS, Material Design, Redux, Saga, HTML, CSS, RESTful API, Swagger, JIRA, Scrum', 'Outline: An online property portal developing a range of data-driven tools that help property buyers, sellers, and investors make more informed decisions. The objective is to bring transparency to the residential property market and peace of mind to those operating within it.', 'Responsibilities: Full stack developer, admin panel development using React JS, backend development using NodeJS, feature development, bug fixing, state management using Redux, coordination with leads and architects.', '', 'Project 4: Budgeting Solution', 'Environment: ReactJS, .Net core, MySQL, Jenkins', 'Outline: A web application to apply the best methodologies for an organization with a solution that can pivot to the ever-changing demands of the healthcare landscape. It empowers the staff with the tools to help expedite the budget process that includes multiple options: bottom-up, top-down, service line, rolling forecasts, and more. The budgeting solution has simplified the process by providing a tool that will reduce the risk of surprise variances and will help inform both current and future evidence-informed decision-making.', 'Responsibilities: System re-architecture, authorization/security-related functionalities, module development using React JS and Carbon designs, communication using Microsoft Teams and Jira.', '', 'Project 5: Online Telehealth Solution', 'Environment: ReactJS, Python (Django), MySQL', 'Outline: A large-scale platform that provides patients access to specialized doctors by appointment and online consultations. The product consists of multiple sub-products that interact with each other in a distributed environment to deliver almost real-time patient updates.', 'Responsibilities: Full stack developer, existing program development, frontend design revamp, high-quality code development, collaboration with Gitflow and Jira.', '', 'Project 6: Investment Gateway', 'Environment: JavaScript, ReactJS, Material Design, Redux, Saga, Python (Django), HTML, CSS', 'Outline: An online portal that specializes in facilitating investments in the world’s foremost growth and private technology companies or a web application that connects startups with investors.', 'Responsibilities: Web application development from scratch using JavaScript, React JS with Redux, Saga, Axios, and custom HTML & CSS, requirement capturing, code reviews, feature development, bug fixing.']\n"
     ]
    }
   ],
   "source": [
    "print(resp)"
   ]
  },
  {
   "cell_type": "code",
   "execution_count": 94,
   "metadata": {},
   "outputs": [],
   "source": [
    "text = \"\\n\".join(resp)\n",
    "\n",
    "# Use regex to extract the required sections\n",
    "resource_name = re.search(r\"Resource Name:\\s*(.*)\", text).group(1)\n",
    "job_role = re.search(r\"Job Role:\\s*(.*)\", text).group(1)\n",
    "percentage_match = re.search(r\"Percentage Match:\\s*(.*)\", text).group(1)\n",
    "missing_keywords = re.search(r\"Missing Keywords:\\s*(.*)\", text).group(1)\n",
    "summary = re.search(r\"Summary:\\s*(.*)\", text).group(1)\n",
    "key_skills_competencies = re.search(r\"Key Skills & Competencies:\\s*(.*?)Academic Summary:\", text, re.DOTALL).group(1).strip()\n",
    "academic_summary = re.search(r\"Academic Summary:\\s*(.*?)Work Summary:\", text, re.DOTALL).group(1).strip()\n",
    "work_summary = re.search(r\"Work Summary:\\s*(.*)\", text, re.DOTALL).group(1).strip()\n",
    "\n"
   ]
  },
  {
   "cell_type": "code",
   "execution_count": 95,
   "metadata": {},
   "outputs": [
    {
     "name": "stdout",
     "output_type": "stream",
     "text": [
      "Project 1: Retail Business Support and Enhancement Project\n",
      "Environment: Experience Cloud, Service Cloud, Aura\n",
      "Outline: The project is a retail business having different products. Salesforce was mainly used for after-sales processes like warranty, refund, replacement, etc. Also includes live agent chat and case management.\n",
      "Responsibilities: Worked as Senior Salesforce Developer, worked with case management (web-to-case, email-to-case etc.), worked with Lightning Aura components, worked on Custom logic for Apex triggers, carried out custom development with Experience Cloud using Aura components, worked with Record types, page layouts, and lightning pages\n",
      "\n",
      "Project 2: Real Estate Services\n",
      "Environment: Service and Experience Cloud, Aura\n",
      "Outline: A support project for Service and Experience Cloud. This project involved leveraging out-of-the-box functionalities provided by Salesforce to implement client requirements of Lead assignment rules, Case assignment rules, and Community customizations.\n",
      "Responsibilities: Worked as a Salesforce Developer, developed Lightning Aura Components for the Salesforce Communities, developed and deployed custom solutions using Lightning Components, Apex classes and Apex Triggers, developed test classes for Apex class and improved code coverage, worked on different Email Templates for sending Emails through Salesforce, worked with process builder for case management\n",
      "\n",
      "Project 3: Real-Estate Domain Implementation\n",
      "Environment: Sales Cloud, LWC\n",
      "Outline: The project was focused on the implementation of a Sales cycle for real estate business. This was to assist the users in lead management and then conversion of the leads to actual sales of the units in a given project that was built by the builder company. It also included the processes that were required after the sale of a unit has been done like transfer of a unit, cancellation of a unit, sale-purchase agreement, etc.\n",
      "Responsibilities: Worked as a Senior Salesforce Developer to work with custom screen development with LWC, conducted PoC for the Field Service Lightning in Salesforce and implemented the initial requirements, worked on Apex triggers, batch classes, and flows, worked in a role to assist junior resources\n",
      "\n",
      "Project 4: Migration of Metadata with Multiple Orgs\n",
      "Environment: Sales Cloud\n",
      "Outline: The customer has multiple orgs which have different customizations for multiple vendors. There are some timely migrations and merging of metadata within these orgs and then the client’s support team builds customizations on top of it.\n",
      "Responsibilities: Worked as Salesforce Consultant, migrated metadata components using VS code, cleansed metadata and dependencies of components, supported and fixed enhancements, worked on XML package extension usage\n",
      "\n",
      "Project 5: Process Automation Optimization Project\n",
      "Environment: Sales Cloud\n",
      "Outline: The project implemented a sales cloud that has multiple product lines. This was a support project and the target for this was to optimize the process automation like Process builders and flows.\n",
      "Responsibilities: Worked as a Salesforce developer, worked on Process automation optimizations, converted process builder to flows, provided Support for production issues, worked with Apex triggers\n",
      "\n",
      "Project 6: AppExchange Product\n",
      "Environment: Sales Cloud, Aura\n",
      "Outline: A Salesforce AppExchange product that is based on POS that is fully integrated with the highest caliber of Loan Origination Systems that credits agencies to provide pre-qualification for any borrower.\n",
      "Responsibilities: Worked as a Salesforce Developer on this AppExchange Product development, developed and customized Lightning Aura Components and Visual Force pages using an extension, custom controllers, and standard controllers for multiple business scenarios such as Lead capture, API Callouts and showing API responses, worked on customization including records creating, updating, and deleting functionalities developed over Apex Trigger, VF pages, and Lightning Aura Component, created and maintained Custom Objects and fields using picklist values, validation rules, and formula fields on record type and Page layouts to the custom objects, worked on Force.com Sites using Visual Force pages applying customized JavaScript and HTML for Custom Web to lead Portal, worked on Integrations with Azure middleware using multiple REST API Callouts through Configuration done with Custom Meta Data, Protected Custom Settings, and authentication using Named Credential, ensured that the product passes through Salesforce Security Review, worked on apex sharing for enforcing the Security model for Field Level Security and object level (Create, Read, Update, Delete) in code, developed test classes for Apex class and worked for improving code coverage.\n"
     ]
    }
   ],
   "source": [
    "print(work_summary)"
   ]
  },
  {
   "cell_type": "code",
   "execution_count": 96,
   "metadata": {},
   "outputs": [
    {
     "name": "stdout",
     "output_type": "stream",
     "text": [
      "Resource Name: Sheharyar Mohsin\n",
      "Job Role: Senior Salesforce Consultant\n",
      "Percentage Match: 80%\n",
      "Missing Keywords: Databricks, ETL jobs, Databricks certification\n",
      "Summary: A Senior Salesforce Consultant with 7 years of experience in the field of Salesforce CRM and professional experience in software analysis and development. Worked on Salesforce Experience Cloud, Sales Cloud and Service Cloud. Skilled in Lightening Web components and Aura. Experienced with different stages of software development lifecycle.\n",
      "Key Skills & Competencies: ['1. Technical Expertise: Skilled in Salesforce CRM, with experience in Salesforce Experience Cloud, Sales Cloud, and Service Cloud. Proficient in Lightning Web Components and Aura.', '2. Technical Toolkit: Experienced in HTML, CSS, JavaScript, SOQL, Apex. Familiar with Lightning Aura Components, Visualforce Pages, and Force.com sites. Knowledgeable in integration with JSON payload and creating custom fields, validation rules, and formula fields.', '3. Communication and Collaboration: Worked in Agile (Scrum) environments, collaborating with cross-functional teams and stakeholders to deliver successful projects. Strong communication skills for effective requirement gathering and client interaction.']\n",
      "Academic Summary: ['- Master of Science in Computer Science', '- Bachelor of Science in Computer Science']\n",
      "Work Summary: [{'Project': 'Retail Business Support and Enhancement Project', 'Environment': 'Experience Cloud, Service Cloud, Aura', 'Outline': 'The project is a retail business having different products. Salesforce was mainly used for after-sales processes like warranty, refund, replacement, etc. Also includes live agent chat and case management.', 'Responsibilities': 'Worked as Senior Salesforce Developer, worked with case management (web-to-case, email-to-case etc.), worked with Lightning Aura components, worked on Custom logic for Apex triggers, carried out custom development with Experience Cloud using Aura components, worked with Record types, page layouts, and lightning pages'}, {'Project': 'Real Estate Services', 'Environment': 'Service and Experience Cloud, Aura', 'Outline': 'A support project for Service and Experience Cloud. This project involved leveraging out-of-the-box functionalities provided by Salesforce to implement client requirements of Lead assignment rules, Case assignment rules, and Community customizations.', 'Responsibilities': 'Worked as a Salesforce Developer, developed Lightning Aura Components for the Salesforce Communities, developed and deployed custom solutions using Lightning Components, Apex classes and Apex Triggers, developed test classes for Apex class and improved code coverage, worked on different Email Templates for sending Emails through Salesforce, worked with process builder for case management'}, {'Project': 'Real-Estate Domain Implementation', 'Environment': 'Sales Cloud, LWC', 'Outline': 'The project was focused on the implementation of a Sales cycle for real estate business. This was to assist the users in lead management and then conversion of the leads to actual sales of the units in a given project that was built by the builder company. It also included the processes that were required after the sale of a unit has been done like transfer of a unit, cancellation of a unit, sale-purchase agreement, etc.', 'Responsibilities': 'Worked as a Senior Salesforce Developer to work with custom screen development with LWC, conducted PoC for the Field Service Lightning in Salesforce and implemented the initial requirements, worked on Apex triggers, batch classes, and flows, worked in a role to assist junior resources'}, {'Project': 'Migration of Metadata with Multiple Orgs', 'Environment': 'Sales Cloud', 'Outline': 'The customer has multiple orgs which have different customizations for multiple vendors. There are some timely migrations and merging of metadata within these orgs and then the client’s support team builds customizations on top of it.', 'Responsibilities': 'Worked as Salesforce Consultant, migrated metadata components using VS code, cleansed metadata and dependencies of components, supported and fixed enhancements, worked on XML package extension usage'}, {'Project': 'Process Automation Optimization Project', 'Environment': 'Sales Cloud', 'Outline': 'The project implemented a sales cloud that has multiple product lines. This was a support project and the target for this was to optimize the process automation like Process builders and flows.', 'Responsibilities': 'Worked as a Salesforce developer, worked on Process automation optimizations, converted process builder to flows, provided Support for production issues, worked with Apex triggers'}, {'Project': 'AppExchange Product', 'Environment': 'Sales Cloud, Aura', 'Outline': 'A Salesforce AppExchange product that is based on POS that is fully integrated with the highest caliber of Loan Origination Systems that credits agencies to provide pre-qualification for any borrower.', 'Responsibilities': 'Worked as a Salesforce Developer on this AppExchange Product development, developed and customized Lightning Aura Components and Visual Force pages using an extension, custom controllers, and standard controllers for multiple business scenarios such as Lead capture, API Callouts and showing API responses, worked on customization including records creating, updating, and deleting functionalities developed over Apex Trigger, VF pages, and Lightning Aura Component, created and maintained Custom Objects and fields using picklist values, validation rules, and formula fields on record type and Page layouts to the custom objects, worked on Force.com Sites using Visual Force pages applying customized JavaScript and HTML for Custom Web to lead Portal, worked on Integrations with Azure middleware using multiple REST API Callouts through Configuration done with Custom Meta Data, Protected Custom Settings, and authentication using Named Credential, ensured that the product passes through Salesforce Security Review, worked on apex sharing for enforcing the Security model for Field Level Security and object level (Create, Read, Update, Delete) in code, developed test classes for Apex class and worked for improving code coverage.'}]\n"
     ]
    }
   ],
   "source": [
    "# Store in appropriate data structures\n",
    "profile_data = {\n",
    "    \"Resource Name\": resource_name,\n",
    "    \"Job Role\": job_role,\n",
    "    \"Percentage Match\": percentage_match,\n",
    "    \"Missing Keywords\": missing_keywords,\n",
    "    \"Summary\": summary,\n",
    "    \"Key Skills & Competencies\": key_skills_competencies.split(\"\\n\"),\n",
    "    \"Academic Summary\": academic_summary.split(\"\\n\"),\n",
    "    \"Work Summary\": []\n",
    "}\n",
    "\n",
    "# Extract individual projects in Work Summary\n",
    "projects = re.findall(\n",
    "    r\"Project \\d+: (.*?)\\nEnvironment:\\s*(.*?)\\nOutline:\\s*(.*?)\\nResponsibilities:\\s*(.*?)(?:\\n\\n|$)\",\n",
    "    work_summary, re.DOTALL\n",
    ")\n",
    "\n",
    "# Populate profile_data with extracted projects\n",
    "for project in projects:\n",
    "    project_data = {\n",
    "        \"Project\": project[0],\n",
    "        \"Environment\": project[1],\n",
    "        \"Outline\": project[2].strip(),\n",
    "        \"Responsibilities\": project[3].strip()\n",
    "    }\n",
    "    profile_data[\"Work Summary\"].append(project_data)\n",
    "\n",
    "# Print extracted data\n",
    "for key, value in profile_data.items():\n",
    "    print(f\"{key}: {value}\")"
   ]
  },
  {
   "cell_type": "code",
   "execution_count": 97,
   "metadata": {},
   "outputs": [
    {
     "name": "stdout",
     "output_type": "stream",
     "text": [
      "Retail Business Support and Enhancement Project\n"
     ]
    }
   ],
   "source": [
    "print(profile_data['Work Summary'][0]['Project'])"
   ]
  },
  {
   "cell_type": "markdown",
   "metadata": {},
   "source": [
    "### Generating Word Document\n",
    "Will include everything according to the provided format except for \"Percentage Match\" and \"Missing Keywords\""
   ]
  },
  {
   "cell_type": "code",
   "execution_count": 98,
   "metadata": {},
   "outputs": [],
   "source": [
    "from docx.shared import Pt\n",
    "from docx.oxml.ns import qn"
   ]
  },
  {
   "cell_type": "code",
   "execution_count": 99,
   "metadata": {},
   "outputs": [],
   "source": [
    "new_file_path = os.path.join('template', 'Sample Profile 2.docx')\n",
    "new_file = Document(new_file_path)"
   ]
  },
  {
   "cell_type": "code",
   "execution_count": 100,
   "metadata": {},
   "outputs": [],
   "source": [
    "def set_font_style(document, font_name='Arial'):\n",
    "    for paragraph in document.paragraphs:\n",
    "        for run in paragraph.runs:\n",
    "            run.font.name = font_name\n",
    "            run._element.rPr.rFonts.set(qn('w:eastAsia'), font_name)  # For East Asian text support\n",
    "\n",
    "\n",
    "def replace_placeholder(paragraph, placeholder, replacement):\n",
    "    if placeholder in paragraph.text:\n",
    "        combined_text = \"\".join([run.text for run in paragraph.runs])\n",
    "        new_text = combined_text.replace(placeholder, replacement)\n",
    "        \n",
    "        # Clear existing runs and add the replaced text as a single run\n",
    "        for run in paragraph.runs:\n",
    "            run.text = \"\"\n",
    "        paragraph.runs[0].text = new_text\n",
    "\n",
    "# Function to add bold text\n",
    "def bold_text(paragraph, text):\n",
    "    run = paragraph.add_run(text)\n",
    "    run.bold = True"
   ]
  },
  {
   "cell_type": "code",
   "execution_count": 101,
   "metadata": {},
   "outputs": [],
   "source": [
    "for paragraph in new_file.paragraphs:\n",
    "    replace_placeholder(paragraph, \"${resourcename}\", profile_data[\"Resource Name\"])\n",
    "    replace_placeholder(paragraph, \"${jobrole}\", profile_data[\"Job Role\"])\n",
    "    replace_placeholder(paragraph, \"${summary}\", profile_data[\"Summary\"])\n",
    "    replace_placeholder(paragraph, \"${academic}\", \"\\n\".join(profile_data[\"Academic Summary\"]))\n"
   ]
  },
  {
   "cell_type": "code",
   "execution_count": 102,
   "metadata": {},
   "outputs": [],
   "source": [
    "for paragraph in new_file.paragraphs:\n",
    "    if \"${keyskills}\" in paragraph.text:\n",
    "        paragraph.clear()\n",
    "        for skill in profile_data[\"Key Skills & Competencies\"]:\n",
    "            skill_parts = skill.split(\":\")\n",
    "            \n",
    "            if len(skill_parts) == 2:\n",
    "                bold_text(paragraph, skill_parts[0] + \": \")\n",
    "                competencies = skill_parts[1].split(\", \")\n",
    "                for competency in competencies:\n",
    "                    competency = competency.strip()\n",
    "                    paragraph.add_run(\"\\n   • \")\n",
    "                    bullet_point = paragraph.add_run(competency)\n",
    "                    bullet_point.font.size = Pt(11)\n",
    "                    \n",
    "                paragraph.add_run(\"\\n\")\n",
    "                paragraph.add_run(\"\\n\")  # Add new line after each skill section\n",
    "        "
   ]
  },
  {
   "cell_type": "code",
   "execution_count": 103,
   "metadata": {},
   "outputs": [],
   "source": [
    "# Replace Work summary\n",
    "for paragraph in new_file.paragraphs:\n",
    "    if \"${worksummary}\" in paragraph.text:\n",
    "        paragraph.clear()\n",
    "        for project in profile_data[\"Work Summary\"]:\n",
    "            project_paragraph = new_file.add_paragraph()\n",
    "            bold_text(project_paragraph, \"Project: \")\n",
    "            project_paragraph.add_run(project[\"Project\"])\n",
    "            new_file.add_paragraph(f\"Environment: {project['Environment']}\")\n",
    "            new_file.add_paragraph(f\"Outline: {project['Outline']}\")\n",
    "            new_file.add_paragraph(f\"Responsibilities: {project['Responsibilities']}\")\n",
    "            new_file.add_paragraph(\"\\n\")  # Add new line after each project"
   ]
  },
  {
   "cell_type": "code",
   "execution_count": 104,
   "metadata": {},
   "outputs": [
    {
     "name": "stdout",
     "output_type": "stream",
     "text": [
      "Document saved\n"
     ]
    }
   ],
   "source": [
    "set_font_style(new_file, font_name='Arial')\n",
    "\n",
    "new_file.save('NewSampleFormatCV.docx')\n",
    "print(f\"Document saved\")"
   ]
  },
  {
   "cell_type": "code",
   "execution_count": null,
   "metadata": {},
   "outputs": [],
   "source": []
  },
  {
   "cell_type": "code",
   "execution_count": null,
   "metadata": {},
   "outputs": [],
   "source": []
  }
 ],
 "metadata": {
  "kernelspec": {
   "display_name": "Python 3",
   "language": "python",
   "name": "python3"
  },
  "language_info": {
   "codemirror_mode": {
    "name": "ipython",
    "version": 3
   },
   "file_extension": ".py",
   "mimetype": "text/x-python",
   "name": "python",
   "nbconvert_exporter": "python",
   "pygments_lexer": "ipython3",
   "version": "3.12.4"
  }
 },
 "nbformat": 4,
 "nbformat_minor": 2
}
